{
 "cells": [
  {
   "cell_type": "code",
   "execution_count": 1,
   "metadata": {},
   "outputs": [],
   "source": [
    "import pandas as pd\n",
    "import numpy as np\n",
    "\n",
    "from statsmodels.tsa.vector_ar.var_model import VAR\n",
    "from sklearn.linear_model import LinearRegression\n",
    "from statsmodels.tsa.deterministic import DeterministicProcess"
   ]
  },
  {
   "cell_type": "code",
   "execution_count": 4,
   "metadata": {},
   "outputs": [
    {
     "name": "stdout",
     "output_type": "stream",
     "text": [
      "数据形状： (30, 1200)\n"
     ]
    },
    {
     "data": {
      "text/html": [
       "<div>\n",
       "<style scoped>\n",
       "    .dataframe tbody tr th:only-of-type {\n",
       "        vertical-align: middle;\n",
       "    }\n",
       "\n",
       "    .dataframe tbody tr th {\n",
       "        vertical-align: top;\n",
       "    }\n",
       "\n",
       "    .dataframe thead th {\n",
       "        text-align: right;\n",
       "    }\n",
       "</style>\n",
       "<table border=\"1\" class=\"dataframe\">\n",
       "  <thead>\n",
       "    <tr style=\"text-align: right;\">\n",
       "      <th></th>\n",
       "      <th>id_1</th>\n",
       "      <th>id_2</th>\n",
       "      <th>id_3</th>\n",
       "      <th>id_4</th>\n",
       "      <th>id_5</th>\n",
       "      <th>id_6</th>\n",
       "      <th>id_7</th>\n",
       "      <th>id_8</th>\n",
       "      <th>id_9</th>\n",
       "      <th>id_10</th>\n",
       "      <th>...</th>\n",
       "      <th>id_1191</th>\n",
       "      <th>id_1192</th>\n",
       "      <th>id_1193</th>\n",
       "      <th>id_1194</th>\n",
       "      <th>id_1195</th>\n",
       "      <th>id_1196</th>\n",
       "      <th>id_1197</th>\n",
       "      <th>id_1198</th>\n",
       "      <th>id_1199</th>\n",
       "      <th>id_1200</th>\n",
       "    </tr>\n",
       "    <tr>\n",
       "      <th>month</th>\n",
       "      <th></th>\n",
       "      <th></th>\n",
       "      <th></th>\n",
       "      <th></th>\n",
       "      <th></th>\n",
       "      <th></th>\n",
       "      <th></th>\n",
       "      <th></th>\n",
       "      <th></th>\n",
       "      <th></th>\n",
       "      <th></th>\n",
       "      <th></th>\n",
       "      <th></th>\n",
       "      <th></th>\n",
       "      <th></th>\n",
       "      <th></th>\n",
       "      <th></th>\n",
       "      <th></th>\n",
       "      <th></th>\n",
       "      <th></th>\n",
       "      <th></th>\n",
       "    </tr>\n",
       "  </thead>\n",
       "  <tbody>\n",
       "    <tr>\n",
       "      <th>2018-01-01</th>\n",
       "      <td>1.0</td>\n",
       "      <td>16.0</td>\n",
       "      <td>6.0</td>\n",
       "      <td>0.0</td>\n",
       "      <td>22.0</td>\n",
       "      <td>64.0</td>\n",
       "      <td>0.0</td>\n",
       "      <td>0.0</td>\n",
       "      <td>10.0</td>\n",
       "      <td>10.0</td>\n",
       "      <td>...</td>\n",
       "      <td>9.0</td>\n",
       "      <td>0.0</td>\n",
       "      <td>4.0</td>\n",
       "      <td>95.0</td>\n",
       "      <td>0.0</td>\n",
       "      <td>1.0</td>\n",
       "      <td>2.0</td>\n",
       "      <td>0.0</td>\n",
       "      <td>26.0</td>\n",
       "      <td>0.0</td>\n",
       "    </tr>\n",
       "    <tr>\n",
       "      <th>2018-02-01</th>\n",
       "      <td>1.0</td>\n",
       "      <td>35.0</td>\n",
       "      <td>2.0</td>\n",
       "      <td>0.0</td>\n",
       "      <td>18.0</td>\n",
       "      <td>8.0</td>\n",
       "      <td>0.0</td>\n",
       "      <td>0.0</td>\n",
       "      <td>0.0</td>\n",
       "      <td>14.0</td>\n",
       "      <td>...</td>\n",
       "      <td>16.0</td>\n",
       "      <td>0.0</td>\n",
       "      <td>5.0</td>\n",
       "      <td>16.0</td>\n",
       "      <td>0.0</td>\n",
       "      <td>1.0</td>\n",
       "      <td>0.0</td>\n",
       "      <td>0.0</td>\n",
       "      <td>24.0</td>\n",
       "      <td>0.0</td>\n",
       "    </tr>\n",
       "    <tr>\n",
       "      <th>2018-03-01</th>\n",
       "      <td>0.0</td>\n",
       "      <td>13.0</td>\n",
       "      <td>10.0</td>\n",
       "      <td>0.0</td>\n",
       "      <td>24.0</td>\n",
       "      <td>111.0</td>\n",
       "      <td>0.0</td>\n",
       "      <td>4.0</td>\n",
       "      <td>0.0</td>\n",
       "      <td>10.0</td>\n",
       "      <td>...</td>\n",
       "      <td>28.0</td>\n",
       "      <td>0.0</td>\n",
       "      <td>1.0</td>\n",
       "      <td>75.0</td>\n",
       "      <td>1.0</td>\n",
       "      <td>3.0</td>\n",
       "      <td>1.0</td>\n",
       "      <td>0.0</td>\n",
       "      <td>46.0</td>\n",
       "      <td>0.0</td>\n",
       "    </tr>\n",
       "    <tr>\n",
       "      <th>2018-04-01</th>\n",
       "      <td>5.0</td>\n",
       "      <td>27.0</td>\n",
       "      <td>17.0</td>\n",
       "      <td>0.0</td>\n",
       "      <td>17.0</td>\n",
       "      <td>122.0</td>\n",
       "      <td>0.0</td>\n",
       "      <td>0.0</td>\n",
       "      <td>10.0</td>\n",
       "      <td>9.0</td>\n",
       "      <td>...</td>\n",
       "      <td>29.0</td>\n",
       "      <td>0.0</td>\n",
       "      <td>5.0</td>\n",
       "      <td>107.0</td>\n",
       "      <td>2.0</td>\n",
       "      <td>2.0</td>\n",
       "      <td>3.0</td>\n",
       "      <td>0.0</td>\n",
       "      <td>64.0</td>\n",
       "      <td>0.0</td>\n",
       "    </tr>\n",
       "    <tr>\n",
       "      <th>2018-05-01</th>\n",
       "      <td>2.0</td>\n",
       "      <td>45.0</td>\n",
       "      <td>4.0</td>\n",
       "      <td>4.0</td>\n",
       "      <td>36.0</td>\n",
       "      <td>100.0</td>\n",
       "      <td>0.0</td>\n",
       "      <td>8.0</td>\n",
       "      <td>0.0</td>\n",
       "      <td>19.0</td>\n",
       "      <td>...</td>\n",
       "      <td>47.0</td>\n",
       "      <td>0.0</td>\n",
       "      <td>6.0</td>\n",
       "      <td>150.0</td>\n",
       "      <td>2.0</td>\n",
       "      <td>0.0</td>\n",
       "      <td>1.0</td>\n",
       "      <td>0.0</td>\n",
       "      <td>22.0</td>\n",
       "      <td>1.0</td>\n",
       "    </tr>\n",
       "  </tbody>\n",
       "</table>\n",
       "<p>5 rows × 1200 columns</p>\n",
       "</div>"
      ],
      "text/plain": [
       "            id_1  id_2  id_3  id_4  id_5   id_6  id_7  id_8  id_9  id_10  ...  \\\n",
       "month                                                                     ...   \n",
       "2018-01-01   1.0  16.0   6.0   0.0  22.0   64.0   0.0   0.0  10.0   10.0  ...   \n",
       "2018-02-01   1.0  35.0   2.0   0.0  18.0    8.0   0.0   0.0   0.0   14.0  ...   \n",
       "2018-03-01   0.0  13.0  10.0   0.0  24.0  111.0   0.0   4.0   0.0   10.0  ...   \n",
       "2018-04-01   5.0  27.0  17.0   0.0  17.0  122.0   0.0   0.0  10.0    9.0  ...   \n",
       "2018-05-01   2.0  45.0   4.0   4.0  36.0  100.0   0.0   8.0   0.0   19.0  ...   \n",
       "\n",
       "            id_1191  id_1192  id_1193  id_1194  id_1195  id_1196  id_1197  \\\n",
       "month                                                                       \n",
       "2018-01-01      9.0      0.0      4.0     95.0      0.0      1.0      2.0   \n",
       "2018-02-01     16.0      0.0      5.0     16.0      0.0      1.0      0.0   \n",
       "2018-03-01     28.0      0.0      1.0     75.0      1.0      3.0      1.0   \n",
       "2018-04-01     29.0      0.0      5.0    107.0      2.0      2.0      3.0   \n",
       "2018-05-01     47.0      0.0      6.0    150.0      2.0      0.0      1.0   \n",
       "\n",
       "            id_1198  id_1199  id_1200  \n",
       "month                                  \n",
       "2018-01-01      0.0     26.0      0.0  \n",
       "2018-02-01      0.0     24.0      0.0  \n",
       "2018-03-01      0.0     46.0      0.0  \n",
       "2018-04-01      0.0     64.0      0.0  \n",
       "2018-05-01      0.0     22.0      1.0  \n",
       "\n",
       "[5 rows x 1200 columns]"
      ]
     },
     "execution_count": 4,
     "metadata": {},
     "output_type": "execute_result"
    }
   ],
   "source": [
    "ts_df = pd.read_csv('C:\\\\Users\\\\YUE\\\\Desktop\\\\python_work\\\\heavy\\\\sale_bypart.csv',index_col=0)\n",
    "ts_df.index = pd.to_datetime(ts_df.index, format=\"%Y%m\")\n",
    "print('数据形状：',ts_df.shape)\n",
    "ts_df.head()"
   ]
  },
  {
   "cell_type": "code",
   "execution_count": 33,
   "metadata": {},
   "outputs": [],
   "source": [
    "# 评价函数: 根据任务要求可以定义评价函数用于本地验证\n",
    "def get_score(pdf,rdf):\n",
    "    score_df = (pdf-rdf).abs()/rdf <= 0.3\n",
    "    score = score_df.mean(axis=1).round(4)\n",
    "    print(score*100)\n",
    "    print('accurancy:',round(score.mean()*100,2))"
   ]
  },
  {
   "cell_type": "markdown",
   "metadata": {},
   "source": [
    "### 本地加 验证后发现VAR与LR模型以\n",
    "- 第1个月使用VAR模型，第2-3月使用LR模型\n",
    "- 由于零件中有很多的销量非常稀疏，因此做一步处理：将48个月均销量小于1的零件销量直接调整为0"
   ]
  },
  {
   "cell_type": "code",
   "execution_count": 6,
   "metadata": {},
   "outputs": [
    {
     "name": "stderr",
     "output_type": "stream",
     "text": [
      "C:\\Users\\YUE\\anaconda3\\lib\\site-packages\\statsmodels\\tsa\\base\\tsa_model.py:536: ValueWarning: No frequency information was provided, so inferred frequency MS will be used.\n",
      "  warnings.warn('No frequency information was'\n"
     ]
    }
   ],
   "source": [
    "# VAR\n",
    "v_model = VAR(ts_df)\n",
    "v_model_fit = v_model.fit(3)\n",
    "lag_order = v_model_fit.k_ar\n",
    "\n",
    "# forecast for the 1st month\n",
    "y_fore1 = v_model_fit.forecast(ts_df.values[-lag_order:], 1)\n",
    "y_fore1[y_fore1 < 0] = 0"
   ]
  },
  {
   "cell_type": "code",
   "execution_count": 8,
   "metadata": {
    "scrolled": false
   },
   "outputs": [
    {
     "name": "stderr",
     "output_type": "stream",
     "text": [
      "C:\\Users\\YUE\\anaconda3\\lib\\site-packages\\statsmodels\\tsa\\deterministic.py:152: UserWarning: Only PeriodIndexes, DatetimeIndexes with a frequency set, RangesIndexes, and NumericIndex with a unit increment support extending. The index is set will contain the position relative to the data length.\n",
      "  warnings.warn(\n"
     ]
    }
   ],
   "source": [
    "# LR model\n",
    "y = ts_df.copy()\n",
    "\n",
    "# Create trend features\n",
    "dp = DeterministicProcess(\n",
    "    index=y.index,  # dates from the training data\n",
    "    constant=True,  # the intercept\n",
    "    order=2,        # quadratic trend\n",
    "    drop=True,      # drop terms to avoid collinearity\n",
    ")\n",
    "X = dp.in_sample()  # features for the training data\n",
    "X_fore = dp.out_of_sample(steps=3)\n",
    "\n",
    "X['mon']=X.index.month\n",
    "X_fore.set_index([pd.to_datetime(['2020-7-1','2020-8-1','2020-9-1'])],inplace=True)\n",
    "X_fore['mon']=X_fore.index.month\n",
    "\n",
    "# Fit trend model\n",
    "model = LinearRegression(fit_intercept=False)\n",
    "model.fit(X, y)\n",
    "\n",
    "y_fore_l = pd.DataFrame(\n",
    "    model.predict(X_fore),\n",
    "    index=X_fore.index,\n",
    "    columns=y.columns,\n",
    ")\n",
    "y_fore_l[y_fore_l<0] = 0"
   ]
  },
  {
   "cell_type": "code",
   "execution_count": 24,
   "metadata": {},
   "outputs": [],
   "source": [
    "avg_num = (ts_df.sum()/30)\n",
    "sparse_id = ts_df.columns[avg_num<1]"
   ]
  },
  {
   "cell_type": "code",
   "execution_count": 20,
   "metadata": {},
   "outputs": [],
   "source": [
    "sub = pd.read_csv('C:\\\\Users\\\\YUE\\\\Desktop\\\\python_work\\\\heavy\\\\sub.csv')\n",
    "sub_wide = sub.pivot_table(index='month',columns=['matrl_id'])\n",
    "sub_wide.index = pd.to_datetime(sub_wide.index, format=\"%Y%m\")\n",
    "sub_wide.columns = ts_df.columns\n",
    "\n",
    "sub_wide.iloc[0] = y_fore1[0]\n",
    "sub_wide.iloc[1:] = y_fore_l.iloc[1:].values\n",
    "\n",
    "sub['nums'] = sub_wide.stack().squeeze().reset_index(drop=True).round(0)\n",
    "# sub.loc[sub.matrl_id.isin(sparse_id),'nums']= 0\n",
    "sub.to_csv('sub_best.csv',index=False)"
   ]
  },
  {
   "cell_type": "code",
   "execution_count": 21,
   "metadata": {},
   "outputs": [],
   "source": [
    "tr = pd.read_csv('C:\\\\Users\\\\YUE\\\\Desktop\\\\python_work\\\\heavy\\\\sub_v13.csv')"
   ]
  },
  {
   "cell_type": "code",
   "execution_count": 25,
   "metadata": {},
   "outputs": [
    {
     "data": {
      "text/plain": [
       "matrl_id    3600\n",
       "month       3600\n",
       "nums        1855\n",
       "dtype: int64"
      ]
     },
     "execution_count": 25,
     "metadata": {},
     "output_type": "execute_result"
    }
   ],
   "source": [
    "(sub==tr).sum()"
   ]
  },
  {
   "cell_type": "code",
   "execution_count": null,
   "metadata": {},
   "outputs": [],
   "source": [
    "\n"
   ]
  },
  {
   "cell_type": "code",
   "execution_count": null,
   "metadata": {},
   "outputs": [],
   "source": []
  },
  {
   "cell_type": "code",
   "execution_count": null,
   "metadata": {},
   "outputs": [],
   "source": []
  }
 ],
 "metadata": {
  "kernelspec": {
   "display_name": "Python 3",
   "language": "python",
   "name": "python3"
  },
  "language_info": {
   "codemirror_mode": {
    "name": "ipython",
    "version": 3
   },
   "file_extension": ".py",
   "mimetype": "text/x-python",
   "name": "python",
   "nbconvert_exporter": "python",
   "pygments_lexer": "ipython3",
   "version": "3.8.3"
  }
 },
 "nbformat": 4,
 "nbformat_minor": 4
}

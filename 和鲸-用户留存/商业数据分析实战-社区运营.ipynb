{
 "cells": [
  {
   "cell_type": "markdown",
   "metadata": {
    "hide_input": false,
    "id": "B5E082ACC6934AC38928E18F0974CA1B",
    "jupyter": {},
    "mdEditEnable": false,
    "scrolled": false,
    "slideshow": {
     "slide_type": "slide"
    },
    "tags": []
   },
   "source": [
    "## 一个类CSDN的内容社区，应该怎么通过用户行为，刻画消费用户的画像？\n",
    "\n",
    "\n",
    "## 选题方向：如何提升留存？"
   ]
  },
  {
   "cell_type": "markdown",
   "metadata": {
    "hide_input": false,
    "id": "B0B9AE3E20C74DBF8629BB4A362EE6BE",
    "jupyter": {},
    "mdEditEnable": false,
    "notebookId": "61790ad0768f3b001785f2e3",
    "slideshow": {
     "slide_type": "slide"
    },
    "tags": []
   },
   "source": [
    "### 准备python包"
   ]
  },
  {
   "cell_type": "code",
   "execution_count": 1,
   "metadata": {
    "hide_input": true,
    "id": "C2C29EC43ADB43A189BBDE0586E716E3",
    "jupyter": {},
    "notebookId": "61790ad0768f3b001785f2e3",
    "scrolled": false,
    "slideshow": {
     "slide_type": "slide"
    },
    "tags": []
   },
   "outputs": [
    {
     "name": "stdout",
     "output_type": "stream",
     "text": [
      "加载numpy和pandas\n",
      "加载可视化需要的包\n",
      "准备完成！\n"
     ]
    }
   ],
   "source": [
    "import numpy as np\n",
    "import pandas as pd\n",
    "print('加载numpy和pandas')\n",
    "\n",
    "import matplotlib.pyplot as plt\n",
    "%matplotlib inline\n",
    "import seaborn as sns\n",
    "print('加载可视化需要的包')\n",
    "\n",
    "import warnings\n",
    "warnings.filterwarnings('ignore')\n",
    "\n",
    "print('准备完成！')"
   ]
  },
  {
   "cell_type": "markdown",
   "metadata": {
    "hide_input": false,
    "id": "BC231A07EA544EAFBDCC7A5FE9BA0901",
    "jupyter": {},
    "mdEditEnable": false,
    "notebookId": "61790ad0768f3b001785f2e3",
    "slideshow": {
     "slide_type": "slide"
    },
    "tags": []
   },
   "source": [
    "### 读取数据"
   ]
  },
  {
   "cell_type": "code",
   "execution_count": 2,
   "metadata": {
    "hide_input": false,
    "id": "328EA71018174F208ADB9A08A469021A",
    "jupyter": {},
    "notebookId": "61790ad0768f3b001785f2e3",
    "scrolled": false,
    "slideshow": {
     "slide_type": "slide"
    },
    "tags": []
   },
   "outputs": [
    {
     "data": {
      "text/html": [
       "<div>\n",
       "<style scoped>\n",
       "    .dataframe tbody tr th:only-of-type {\n",
       "        vertical-align: middle;\n",
       "    }\n",
       "\n",
       "    .dataframe tbody tr th {\n",
       "        vertical-align: top;\n",
       "    }\n",
       "\n",
       "    .dataframe thead th {\n",
       "        text-align: right;\n",
       "    }\n",
       "</style>\n",
       "<table border=\"1\" class=\"dataframe\">\n",
       "  <thead>\n",
       "    <tr style=\"text-align: right;\">\n",
       "      <th></th>\n",
       "      <th>idx</th>\n",
       "      <th>user_id</th>\n",
       "      <th>bhv_ts</th>\n",
       "      <th>action_name</th>\n",
       "      <th>target_id</th>\n",
       "      <th>target_category</th>\n",
       "    </tr>\n",
       "  </thead>\n",
       "  <tbody>\n",
       "    <tr>\n",
       "      <td>0</td>\n",
       "      <td>1</td>\n",
       "      <td>5A15d8dd71710055601be6d129066A4D</td>\n",
       "      <td>2020-05-19 13:24:17.775</td>\n",
       "      <td>view</td>\n",
       "      <td>27BA769d9a7100f002b295e4d6068D91</td>\n",
       "      <td>5532C32</td>\n",
       "    </tr>\n",
       "    <tr>\n",
       "      <td>1</td>\n",
       "      <td>2</td>\n",
       "      <td>B1A4f1df7f6300ce62e9c82d6ff5985D</td>\n",
       "      <td>2020-04-07 19:12:52.584</td>\n",
       "      <td>view</td>\n",
       "      <td>823980d4475100ded474818a160687B2</td>\n",
       "      <td>5364B4F</td>\n",
       "    </tr>\n",
       "    <tr>\n",
       "      <td>2</td>\n",
       "      <td>3</td>\n",
       "      <td>AF33d2f861a300bfc85f805cd306215E</td>\n",
       "      <td>2020-04-27 09:22:18.937</td>\n",
       "      <td>view</td>\n",
       "      <td>B1A632f5cb51003c3d36620cc3066318</td>\n",
       "      <td>5043432</td>\n",
       "    </tr>\n",
       "    <tr>\n",
       "      <td>3</td>\n",
       "      <td>4</td>\n",
       "      <td>95A7f85ea4710085064a73d55f0691C3</td>\n",
       "      <td>2020-09-15 21:39:13.934</td>\n",
       "      <td>view</td>\n",
       "      <td>91307a082b63001a32828210f0e5633D</td>\n",
       "      <td>5362102</td>\n",
       "    </tr>\n",
       "    <tr>\n",
       "      <td>4</td>\n",
       "      <td>5</td>\n",
       "      <td>C2BC493dcfc200936fe38af22bf5C03C</td>\n",
       "      <td>2020-04-29 20:24:26.399</td>\n",
       "      <td>view</td>\n",
       "      <td>A91A3741b2d2008a4d89f81847e55A7E</td>\n",
       "      <td>5000000</td>\n",
       "    </tr>\n",
       "  </tbody>\n",
       "</table>\n",
       "</div>"
      ],
      "text/plain": [
       "   idx                           user_id                  bhv_ts action_name  \\\n",
       "0    1  5A15d8dd71710055601be6d129066A4D 2020-05-19 13:24:17.775        view   \n",
       "1    2  B1A4f1df7f6300ce62e9c82d6ff5985D 2020-04-07 19:12:52.584        view   \n",
       "2    3  AF33d2f861a300bfc85f805cd306215E 2020-04-27 09:22:18.937        view   \n",
       "3    4  95A7f85ea4710085064a73d55f0691C3 2020-09-15 21:39:13.934        view   \n",
       "4    5  C2BC493dcfc200936fe38af22bf5C03C 2020-04-29 20:24:26.399        view   \n",
       "\n",
       "                          target_id target_category  \n",
       "0  27BA769d9a7100f002b295e4d6068D91         5532C32  \n",
       "1  823980d4475100ded474818a160687B2         5364B4F  \n",
       "2  B1A632f5cb51003c3d36620cc3066318         5043432  \n",
       "3  91307a082b63001a32828210f0e5633D         5362102  \n",
       "4  A91A3741b2d2008a4d89f81847e55A7E         5000000  "
      ]
     },
     "execution_count": 2,
     "metadata": {},
     "output_type": "execute_result"
    }
   ],
   "source": [
    "df = pd.read_csv('/home/mw/input/realworlddata8695/实战数据集.csv')\n",
    "df.bhv_ts = pd.to_datetime(df.bhv_ts)\n",
    "df.head()"
   ]
  },
  {
   "cell_type": "markdown",
   "metadata": {
    "hide_input": false,
    "id": "A000484CE2A74B568AE3DB122320DC1A",
    "jupyter": {},
    "mdEditEnable": false,
    "notebookId": "61790ad0768f3b001785f2e3",
    "slideshow": {
     "slide_type": "slide"
    },
    "tags": []
   },
   "source": [
    "### 数据初探"
   ]
  },
  {
   "cell_type": "markdown",
   "metadata": {
    "hide_input": false,
    "id": "A92642FBD58243918DE710C829BEBDF9",
    "jupyter": {},
    "mdEditEnable": false,
    "notebookId": "61790ad0768f3b001785f2e3",
    "scrolled": false,
    "slideshow": {
     "slide_type": "slide"
    },
    "tags": []
   },
   "source": [
    "日志数据一共包含6列，分别代表：\n",
    "* idx：序号\n",
    "* user_id：用户ID，用户独立标识 \n",
    "* bhv_ts：行为时间，用户行为发生时间戳，可以看到**数据的年份是2020年**\n",
    "* action_name：用户行为的名称；view：浏览；reward：打赏；buy：购买（一般是对资源的购买）；share：分享；mark：收藏；vote：点赞；comp：参与活动\n",
    "* target_id：用户发生行为的对象的ID，如用户阅读文章的文章ID\n",
    "* target_category：用户发生行为的对象的所属类别，如用户阅读的文章的所属类别。本字段数字不超过7位数，首位数是对象所属的大类；后面6位中，每两位代表一个小类别，最多会有3个小类别，小类别并列是并列关系。注意：若action_name为reward，则本字段的数字代表reward的具体金额\n"
   ]
  },
  {
   "cell_type": "code",
   "execution_count": 3,
   "metadata": {
    "hide_input": true,
    "id": "296C77C595ED493C822CB10FEA691EEC",
    "jupyter": {},
    "notebookId": "61790ad0768f3b001785f2e3",
    "scrolled": false,
    "slideshow": {
     "slide_type": "slide"
    },
    "tags": []
   },
   "outputs": [
    {
     "name": "stdout",
     "output_type": "stream",
     "text": [
      "日志数据共有： 1329805 行\n"
     ]
    }
   ],
   "source": [
    "print('日志数据共有：',df.shape[0],'行')"
   ]
  },
  {
   "cell_type": "code",
   "execution_count": 4,
   "metadata": {
    "hide_input": true,
    "id": "21088B0248A54D6B8FD966EB32016277",
    "jupyter": {},
    "notebookId": "61790ad0768f3b001785f2e3",
    "scrolled": false,
    "slideshow": {
     "slide_type": "slide"
    },
    "tags": []
   },
   "outputs": [
    {
     "name": "stdout",
     "output_type": "stream",
     "text": [
      "验证一下，数据是否存在重复记录，重复记录数：\n"
     ]
    },
    {
     "data": {
      "text/plain": [
       "0"
      ]
     },
     "execution_count": 4,
     "metadata": {},
     "output_type": "execute_result"
    }
   ],
   "source": [
    "print('验证一下，数据是否存在重复记录，重复记录数：')\n",
    "df.duplicated(subset = ['user_id','bhv_ts',  ]).sum()"
   ]
  },
  {
   "cell_type": "markdown",
   "metadata": {
    "hide_input": false,
    "id": "78A22CE9F46A4389B059D17F7B529286",
    "jupyter": {},
    "mdEditEnable": false,
    "notebookId": "61790ad0768f3b001785f2e3",
    "scrolled": true,
    "slideshow": {
     "slide_type": "slide"
    },
    "tags": []
   },
   "source": [
    "日志数据的各列均没有缺失值，除了bhv_ts已经被转换为时间类型，其他内容列均为object类\n",
    "\n"
   ]
  },
  {
   "cell_type": "code",
   "execution_count": 5,
   "metadata": {
    "hide_input": true,
    "id": "3A6D0F987078478C94EC4D1391CEC4CA",
    "jupyter": {},
    "notebookId": "61790ad0768f3b001785f2e3",
    "scrolled": false,
    "slideshow": {
     "slide_type": "slide"
    },
    "tags": []
   },
   "outputs": [
    {
     "name": "stdout",
     "output_type": "stream",
     "text": [
      "<class 'pandas.core.frame.DataFrame'>\n",
      "RangeIndex: 1329805 entries, 0 to 1329804\n",
      "Data columns (total 6 columns):\n",
      "idx                1329805 non-null int64\n",
      "user_id            1329805 non-null object\n",
      "bhv_ts             1329805 non-null datetime64[ns]\n",
      "action_name        1329805 non-null object\n",
      "target_id          1329805 non-null object\n",
      "target_category    1329805 non-null object\n",
      "dtypes: datetime64[ns](1), int64(1), object(4)\n",
      "memory usage: 60.9+ MB\n"
     ]
    }
   ],
   "source": [
    "df.info()"
   ]
  },
  {
   "cell_type": "code",
   "execution_count": 18,
   "metadata": {
    "hide_input": true,
    "id": "6C0282231C034078961EC772F1C02781",
    "jupyter": {},
    "notebookId": "61790ad0768f3b001785f2e3",
    "scrolled": false,
    "slideshow": {
     "slide_type": "slide"
    },
    "tags": []
   },
   "outputs": [
    {
     "name": "stdout",
     "output_type": "stream",
     "text": [
      "最早的时间： 2020-03-01 00:00:07.346000\n",
      "最晚的时间： 2020-09-30 23:57:47.149000\n",
      "区间包含天数： 213 days 23:57:39.803000\n"
     ]
    }
   ],
   "source": [
    "print('最早的时间：',df.bhv_ts.min())\n",
    "print('最晚的时间：',df.bhv_ts.max())\n",
    "print('区间包含天数：',df.bhv_ts.max()-df.bhv_ts.min())"
   ]
  },
  {
   "cell_type": "markdown",
   "metadata": {
    "id": "E81140A2114942CB893BBF45BB2FA924",
    "jupyter": {},
    "mdEditEnable": false,
    "notebookId": "61790ad0768f3b001785f2e3",
    "scrolled": true,
    "slideshow": {
     "slide_type": "slide"
    },
    "tags": []
   },
   "source": [
    "查看不同action对应的target对象是类型特点发现：\n",
    "* reward（打赏）和comp（参与活动）的target_category代码都只有3位\n",
    "* 其他action类型对象的类型代码长度均为7位"
   ]
  },
  {
   "cell_type": "code",
   "execution_count": 7,
   "metadata": {
    "hide_input": true,
    "id": "BF9572A6FE4442D683D2DF853599B298",
    "jupyter": {},
    "notebookId": "61790ad0768f3b001785f2e3",
    "scrolled": false,
    "slideshow": {
     "slide_type": "slide"
    },
    "tags": []
   },
   "outputs": [
    {
     "name": "stdout",
     "output_type": "stream",
     "text": [
      "view 行为对应的target category代码长度: [7]\n",
      "mark 行为对应的target category代码长度: [7]\n",
      "share 行为对应的target category代码长度: [7]\n",
      "vote 行为对应的target category代码长度: [7]\n",
      "reward 行为对应的target category代码长度: [3]\n",
      "comp 行为对应的target category代码长度: [3]\n",
      "buy 行为对应的target category代码长度: [7]\n"
     ]
    }
   ],
   "source": [
    "for act in df.action_name.unique(): \n",
    "    target_cat_len = df[df.action_name==act].target_category.str.len().unique()\n",
    "    print(act,'行为对应的target category代码长度:',target_cat_len)"
   ]
  },
  {
   "cell_type": "markdown",
   "metadata": {
    "hide_input": false,
    "id": "0436A6DC1F674E8D874FCEF99179644E",
    "jupyter": {},
    "mdEditEnable": false,
    "notebookId": "61790ad0768f3b001785f2e3",
    "scrolled": true,
    "slideshow": {
     "slide_type": "slide"
    },
    "tags": []
   },
   "source": [
    "### 数据加工"
   ]
  },
  {
   "cell_type": "markdown",
   "metadata": {
    "id": "C57AA92A728B4F53A002BF026463FE30",
    "jupyter": {},
    "mdEditEnable": false,
    "notebookId": "61790ad0768f3b001785f2e3",
    "scrolled": false,
    "slideshow": {
     "slide_type": "slide"
    },
    "tags": []
   },
   "source": [
    "根据数据各字段的介绍，可以进一步增加字段列，以方便后续的分析\n",
    "同时生成原始日志数据的聚合统计表，user_id是唯一的"
   ]
  },
  {
   "cell_type": "code",
   "execution_count": null,
   "metadata": {
    "hide_input": true,
    "id": "0794B3A076CF4F9997FFB53EC913A0D0",
    "jupyter": {},
    "notebookId": "61790ad0768f3b001785f2e3",
    "slideshow": {
     "slide_type": "slide"
    },
    "tags": []
   },
   "outputs": [],
   "source": [
    "#code_list = []\n",
    "df['target_cat_spe'] = None\n",
    "for i in range(len(df)):\n",
    "    cat_code1 = df.target_category[i][1:3]\n",
    "    cat_code2 = df.target_category[i][3:5]\n",
    "    cat_code3 = df.target_category[i][5:]\n",
    "    code = [cat_code1,cat_code2,cat_code3]\n",
    "    code_list += code\n",
    "#    print(cat_code1,cat_code2,cat_code3)\n",
    "#    print(code)\n",
    "#    print(code_list)\n",
    "    df['target_cat_spe'][i] = code\n",
    "code_list = pd.Series(code_list).unique()"
   ]
  },
  {
   "cell_type": "code",
   "execution_count": 3,
   "metadata": {
    "hide_input": false,
    "id": "F0F8B19B70BA4AA6999B240D5C29E949",
    "jupyter": {},
    "notebookId": "61790ad0768f3b001785f2e3",
    "scrolled": false,
    "slideshow": {
     "slide_type": "slide"
    },
    "tags": []
   },
   "outputs": [],
   "source": [
    "df['date'] = df.bhv_ts.dt.date\n",
    "df['time'] = df.bhv_ts.dt.time\n",
    "df['month'] = df.bhv_ts.dt.month\n",
    "df['day'] = df.bhv_ts.dt.day\n",
    "df['dayofperiod'] = df.bhv_ts.dt.dayofyear\n",
    "df['dayofperiod'] = df['dayofperiod'] - df['dayofperiod'].min()\n",
    "df['weekday'] = df.bhv_ts.dt.weekday #0-6对应星期一到星期天\n",
    "df['isweekend'] = df['weekday'].apply(lambda x: 1 if x>=5 else 0)\n",
    "df['weekofperiod'] = df.bhv_ts.dt.weekofyear\n",
    "df['weekofperiod'] = df['weekofperiod'] - df['weekofperiod'].min()\n",
    "df['hour'] = df.bhv_ts.dt.hour\n",
    "df['target_cat'] = df.target_category.str[0]\n",
    "df['target_cat_spe'] = df.target_category.str[1:3]\n",
    "df['act_target'] = df.action_name + '_' + df.target_cat\n"
   ]
  },
  {
   "cell_type": "code",
   "execution_count": 4,
   "metadata": {
    "hide_input": false,
    "id": "0DC6730B808B48298EDB58B9EC0160F3",
    "jupyter": {},
    "notebookId": "61790ad0768f3b001785f2e3",
    "scrolled": false,
    "slideshow": {
     "slide_type": "slide"
    },
    "tags": []
   },
   "outputs": [],
   "source": [
    "# 按user聚合统计\n",
    "aggs = {\n",
    "    'dayofperiod':['nunique','max','min',np.ptp],\n",
    "    'action_name':['nunique'],\n",
    "    'target_cat':['nunique'],\n",
    "    'act_target':['nunique','count']\n",
    "}\n",
    "agg_df = df.groupby('user_id').agg(aggs)\n",
    "agg_df.columns = ['df'+'_'+'_'.join(col).strip() for col in agg_df.columns.values]\n",
    "agg_df = agg_df.reset_index()\n",
    "agg_df['act_perc'] = agg_df.df_dayofperiod_nunique/(agg_df.df_dayofperiod_ptp+1)"
   ]
  },
  {
   "cell_type": "code",
   "execution_count": 5,
   "metadata": {
    "hide_input": false,
    "id": "C7E6ABDB2EB340269C132BA10465022B",
    "jupyter": {},
    "notebookId": "61790ad0768f3b001785f2e3",
    "scrolled": false,
    "slideshow": {
     "slide_type": "slide"
    },
    "tags": []
   },
   "outputs": [],
   "source": [
    "# 在原始数据上增加新列：new/old\n",
    "# 第一次出现的user_id为new,其他日期再出现则为old\n",
    "df = df.merge(agg_df[['user_id','df_dayofperiod_min']])\n",
    "df['active_day'] = df.dayofperiod - df.df_dayofperiod_min\n",
    "df['isnew'] = df['active_day'].apply(lambda x: 'new' if x==0 else 'old')\n",
    "\n",
    "df['active1'] = df['active_day'].apply(lambda x: 1 if x==1 else 0)\n",
    "df['active7'] = df['active_day'].apply(lambda x: 1 if x==7 else 0)\n",
    "df['active14'] = df['active_day'].apply(lambda x: 1 if x==14 else 0)\n",
    "df['active21'] = df['active_day'].apply(lambda x: 1 if x==21 else 0)\n",
    "df['active30'] = df['active_day'].apply(lambda x: 1 if x==30 else 0)\n",
    "df['active60'] = df['active_day'].apply(lambda x: 1 if x==60 else 0)\n"
   ]
  },
  {
   "cell_type": "code",
   "execution_count": 6,
   "metadata": {
    "hide_input": true,
    "id": "B4C8EC24354545F7B3908FA76C5E073E",
    "jupyter": {},
    "notebookId": "61790ad0768f3b001785f2e3",
    "scrolled": false,
    "slideshow": {
     "slide_type": "slide"
    },
    "tags": []
   },
   "outputs": [],
   "source": [
    "# 活跃天数大于1的用户id\n",
    "suc_id = agg_df[agg_df.df_dayofperiod_nunique > 1].user_id"
   ]
  },
  {
   "cell_type": "code",
   "execution_count": 7,
   "metadata": {
    "hide_input": true,
    "id": "6DDDBB4037FD4DEAB1EDAD33907952A6",
    "jupyter": {},
    "notebookId": "61790ad0768f3b001785f2e3",
    "scrolled": false,
    "slideshow": {
     "slide_type": "slide"
    },
    "tags": []
   },
   "outputs": [],
   "source": [
    "df_user = df.groupby(['user_id'])['active1', 'active7', 'active14', 'active21', 'active30', 'active60'].nunique()-1\n",
    "df_user = df_user.reset_index()\n",
    "df_user = df_user.merge(agg_df[['user_id','df_dayofperiod_min']],on='user_id',how='left')\\\n",
    ".merge(df[['date','dayofperiod']].drop_duplicates(),left_on='df_dayofperiod_min',right_on='dayofperiod')\n",
    "# df_user"
   ]
  },
  {
   "cell_type": "code",
   "execution_count": 8,
   "metadata": {
    "id": "0BE617E1DD594DF282E57041A4C7C548",
    "jupyter": {},
    "notebookId": "61790ad0768f3b001785f2e3",
    "scrolled": false,
    "slideshow": {
     "slide_type": "slide"
    },
    "tags": []
   },
   "outputs": [
    {
     "data": {
      "text/plain": [
       "Index(['idx', 'user_id', 'bhv_ts', 'action_name', 'target_id',\n",
       "       'target_category', 'date', 'time', 'month', 'day', 'dayofperiod',\n",
       "       'weekday', 'isweekend', 'weekofperiod', 'hour', 'target_cat',\n",
       "       'target_cat_spe', 'act_target', 'df_dayofperiod_min', 'active_day',\n",
       "       'isnew', 'active1', 'active7', 'active14', 'active21', 'active30',\n",
       "       'active60'],\n",
       "      dtype='object')"
      ]
     },
     "execution_count": 8,
     "metadata": {},
     "output_type": "execute_result"
    }
   ],
   "source": [
    "df.columns"
   ]
  },
  {
   "cell_type": "code",
   "execution_count": 9,
   "metadata": {
    "id": "15708FEA7448482888C5F91B5DC16F57",
    "jupyter": {},
    "notebookId": "61790ad0768f3b001785f2e3",
    "scrolled": false,
    "slideshow": {
     "slide_type": "slide"
    },
    "tags": []
   },
   "outputs": [
    {
     "data": {
      "text/plain": [
       "Index(['user_id', 'df_dayofperiod_nunique', 'df_dayofperiod_max',\n",
       "       'df_dayofperiod_min', 'df_dayofperiod_ptp', 'df_action_name_nunique',\n",
       "       'df_target_cat_nunique', 'df_act_target_nunique', 'df_act_target_count',\n",
       "       'act_perc'],\n",
       "      dtype='object')"
      ]
     },
     "execution_count": 9,
     "metadata": {},
     "output_type": "execute_result"
    }
   ],
   "source": [
    "agg_df.columns"
   ]
  },
  {
   "cell_type": "markdown",
   "metadata": {
    "id": "006283B2C4FF43098558CBDA8E6DE0C0",
    "jupyter": {},
    "mdEditEnable": false,
    "notebookId": "61790ad0768f3b001785f2e3",
    "slideshow": {
     "slide_type": "slide"
    },
    "tags": []
   },
   "source": [
    "## 定义“留存用户”"
   ]
  },
  {
   "cell_type": "markdown",
   "metadata": {
    "id": "7350AB2A7A204EEE81B7C96CA914DBBF",
    "jupyter": {},
    "mdEditEnable": false,
    "notebookId": "61790ad0768f3b001785f2e3",
    "slideshow": {
     "slide_type": "slide"
    },
    "tags": []
   },
   "source": [
    "**活跃**：一段时间内进入过内容社区进行各类操作的用户，均为”活跃用户“。\n",
    "假设本次分析数据中用户的首条记录时间即是首次使用时间。"
   ]
  },
  {
   "cell_type": "code",
   "execution_count": 10,
   "metadata": {
    "hide_input": true,
    "id": "713E15A1F80744958FA85E6BF283E103",
    "jupyter": {},
    "notebookId": "61790ad0768f3b001785f2e3",
    "scrolled": false,
    "slideshow": {
     "slide_type": "slide"
    },
    "tags": []
   },
   "outputs": [],
   "source": [
    "# 活跃天数超过1天的留存用户日志数据表\n",
    "df_suc = df[df.user_id.isin(suc_id)]\n"
   ]
  },
  {
   "cell_type": "code",
   "execution_count": 29,
   "metadata": {
    "hide_input": true,
    "id": "89D05C94B6F5491C80A2F92A9CDBB1D0",
    "jupyter": {},
    "notebookId": "61790ad0768f3b001785f2e3",
    "scrolled": false,
    "slideshow": {
     "slide_type": "slide"
    },
    "tags": []
   },
   "outputs": [
    {
     "data": {
      "text/plain": [
       "<Figure size 1080x720 with 0 Axes>"
      ]
     },
     "metadata": {},
     "output_type": "display_data"
    },
    {
     "data": {
      "text/html": [
       "<img src=\"https://cdn.kesci.com/upload/rt/89D05C94B6F5491C80A2F92A9CDBB1D0/r1vsxj7vkw.png\">"
      ],
      "text/plain": [
       "<Figure size 432x288 with 1 Axes>"
      ]
     },
     "metadata": {
      "needs_background": "light"
     },
     "output_type": "display_data"
    }
   ],
   "source": [
    "a = df.groupby('active_day')['user_id'].nunique()\n",
    "b = df_suc.groupby('active_day')['user_id'].nunique()\n",
    "df_ab = pd.concat([a,b],axis=1)\n",
    "df_ab.columns = ['总体用户','留存用户']\n",
    "plt.figure(figsize=(15,10))\n",
    "df_ab.head(15).plot(kind='bar',color=['tab:blue','C3'])\n",
    "plt.xlabel('首登录后的活跃日期')\n",
    "plt.title('用户数量')\n",
    "plt.show()"
   ]
  },
  {
   "cell_type": "markdown",
   "metadata": {
    "id": "8C72033202974FB28A4F994D2916C3B9",
    "jupyter": {},
    "mdEditEnable": false,
    "notebookId": "61790ad0768f3b001785f2e3",
    "slideshow": {
     "slide_type": "slide"
    },
    "tags": []
   },
   "source": [
    "根据用户首次进入社区后是否仍有后续活跃，可以将用户分成 **一次性用户** 和 **留存用户**。\n",
    "从上图可以看到，整体用户基盘中，存在大量的一次性用户。\n",
    "\n",
    "* 一次性用户，只在首次活跃的日期有行为动作，后面再没有使用行为数据。\n",
    "* 留存用户，在首次使用日期后仍有其他日期有活跃行为。\n",
    "\n",
    "将行为发生日期作为基础，社区平台的**新增用户**群体是一个非常重要的划分维度。\n",
    "应用上面的定义方法，新增用户群体在周期性复盘时也可以划分为一次性用户和留存用户探究其内部结构。"
   ]
  },
  {
   "cell_type": "code",
   "execution_count": 11,
   "metadata": {
    "hide_input": true,
    "id": "12A1EB90DBE947F4857B95569366693A",
    "jupyter": {},
    "notebookId": "61790ad0768f3b001785f2e3",
    "scrolled": false,
    "slideshow": {
     "slide_type": "slide"
    },
    "tags": []
   },
   "outputs": [],
   "source": [
    "# dt：新增用户中一次性用户与留存用户的数量\n",
    "dt = df[df.isnew=='new'][['date','user_id']].drop_duplicates().merge(agg_df[['user_id','df_dayofperiod_nunique']])\n",
    "dt['new_type'] = dt.df_dayofperiod_nunique.apply(lambda x: 1 if x > 1 else 0)\n",
    "dt = dt.groupby(['date','new_type']).user_id.nunique().reset_index().pivot_table(index='date',columns='new_type')\n",
    "dt.columns=['nsuc','suc']\n",
    "dt['ttl'] = dt.suc + dt.nsuc\n",
    "dt['month'] = pd.to_datetime(dt.index.values).month\n",
    "# dt"
   ]
  },
  {
   "cell_type": "code",
   "execution_count": 56,
   "metadata": {
    "hide_input": true,
    "id": "1EFE3B1D57A34BB38D5A1996C3250B37",
    "jupyter": {},
    "notebookId": "61790ad0768f3b001785f2e3",
    "scrolled": false,
    "slideshow": {
     "slide_type": "slide"
    },
    "tags": []
   },
   "outputs": [
    {
     "data": {
      "text/plain": [
       "Text(0.5, 1.0, '新增用户每月数量')"
      ]
     },
     "execution_count": 56,
     "metadata": {},
     "output_type": "execute_result"
    },
    {
     "data": {
      "text/plain": [
       "<Figure size 720x432 with 0 Axes>"
      ]
     },
     "metadata": {},
     "output_type": "display_data"
    },
    {
     "data": {
      "text/html": [
       "<img src=\"https://cdn.kesci.com/upload/rt/1EFE3B1D57A34BB38D5A1996C3250B37/r1ubmv960p.png\">"
      ],
      "text/plain": [
       "<Figure size 432x288 with 1 Axes>"
      ]
     },
     "metadata": {
      "needs_background": "light"
     },
     "output_type": "display_data"
    }
   ],
   "source": [
    "plt.figure(figsize=(10,6))\n",
    "dt.iloc[7:-7].groupby('month').sum().plot(colors=['green','C3','tab:blue'])\n",
    "plt.legend(['一次性用户','留存用户','新增用户总体'])\n",
    "plt.title('新增用户每月数量')"
   ]
  },
  {
   "cell_type": "markdown",
   "metadata": {
    "id": "4B521B963BBB45D9BEE3A40B01155F45",
    "jupyter": {},
    "mdEditEnable": false,
    "notebookId": "61790ad0768f3b001785f2e3",
    "slideshow": {
     "slide_type": "slide"
    },
    "tags": []
   },
   "source": [
    "从上图来看，从3月至9月期间，社区的新增用户数据经历了先升高再降低的变化。\n",
    "* 第二季度各月的新增用户处于良好水平。值得注意的是，5月的最高值主要是由于一次性用户激增造成的，猜测是平台搞了什么活动，可进一步验证是否存在类似的“薅羊毛”的现象。\n",
    "* 第三季度，新增用户逐月下降，且8月开始一次性用户占比已经超过留存用户，这是一个非常危险的信号，长期持续会造成用户基盘萎缩。"
   ]
  },
  {
   "cell_type": "markdown",
   "metadata": {
    "id": "F1613005C8994C24B65678BFF7BC233D",
    "jupyter": {},
    "mdEditEnable": false,
    "notebookId": "61790ad0768f3b001785f2e3",
    "scrolled": false,
    "slideshow": {
     "slide_type": "slide"
    },
    "tags": []
   },
   "source": [
    "\n",
    "\n",
    "**PV**：某时间段内，各类型行为所有的发生数\n",
    "\n",
    "**UV**：某时间段内，做了任何行为的活跃用户数\n"
   ]
  },
  {
   "cell_type": "code",
   "execution_count": 57,
   "metadata": {
    "hide_input": true,
    "id": "800A0D3336164F9FA648CEDBD590ECAF",
    "jupyter": {},
    "notebookId": "61790ad0768f3b001785f2e3",
    "scrolled": false,
    "slideshow": {
     "slide_type": "slide"
    },
    "tags": []
   },
   "outputs": [
    {
     "data": {
      "text/html": [
       "<img src=\"https://cdn.kesci.com/upload/rt/800A0D3336164F9FA648CEDBD590ECAF/r1ubnqkxei.png\">"
      ],
      "text/plain": [
       "<Figure size 576x432 with 1 Axes>"
      ]
     },
     "metadata": {
      "needs_background": "light"
     },
     "output_type": "display_data"
    },
    {
     "data": {
      "text/html": [
       "<img src=\"https://cdn.kesci.com/upload/rt/800A0D3336164F9FA648CEDBD590ECAF/r1ubns4gdb.png\">"
      ],
      "text/plain": [
       "<Figure size 576x432 with 1 Axes>"
      ]
     },
     "metadata": {
      "needs_background": "light"
     },
     "output_type": "display_data"
    }
   ],
   "source": [
    "plt.figure(figsize=(8,6))\n",
    "df[df.isnew=='old'].groupby('date')['user_id'].count().plot()\n",
    "df[df.isnew=='new'].groupby('date')['user_id'].count().plot()\n",
    "plt.legend(['老用户','新用户'])\n",
    "plt.title('PV')\n",
    "plt.show()\n",
    "\n",
    "plt.figure(figsize=(8,6))\n",
    "df[df.isnew=='old'].groupby('date')['user_id'].nunique().plot()\n",
    "df[df.isnew=='new'].groupby('date')['user_id'].nunique().plot()\n",
    "plt.legend(['老用户','新用户'])\n",
    "plt.title('UV')\n",
    "plt.show()\n"
   ]
  },
  {
   "cell_type": "markdown",
   "metadata": {
    "id": "3DCEBA7F3952419396E0A45DB56F2B59",
    "jupyter": {},
    "mdEditEnable": false,
    "notebookId": "61790ad0768f3b001785f2e3",
    "scrolled": true,
    "slideshow": {
     "slide_type": "slide"
    },
    "tags": []
   },
   "source": [
    "## 用户留存分析"
   ]
  },
  {
   "cell_type": "markdown",
   "metadata": {
    "id": "D8A47C9E7D85428989AE079868272E5C",
    "jupyter": {},
    "mdEditEnable": false,
    "notebookId": "61790ad0768f3b001785f2e3",
    "scrolled": true,
    "slideshow": {
     "slide_type": "slide"
    },
    "tags": []
   },
   "source": [
    "从社区的PV来看，主要的活跃操作还是由留存后的老用户带来的。\n",
    "\n",
    "下面看看留存用户在后续不同时间周期内的活跃情况："
   ]
  },
  {
   "cell_type": "code",
   "execution_count": 12,
   "metadata": {
    "hide_input": true,
    "id": "EB83937374D742C19D0BDE274BA06EAF",
    "jupyter": {},
    "notebookId": "61790ad0768f3b001785f2e3",
    "scrolled": false,
    "slideshow": {
     "slide_type": "slide"
    },
    "tags": []
   },
   "outputs": [],
   "source": [
    "# active_df：留存用户的活跃情况\n",
    "active_df = (df_suc.groupby(['df_dayofperiod_min','user_id'])['active1', 'active7',\\\n",
    " 'active14', 'active21','active30', 'active60'].nunique()-1).reset_index()\\\n",
    ".groupby('df_dayofperiod_min')['active1', 'active7', 'active14',  'active21','active30', 'active60'].sum()\n",
    "active_df['suc'] = dt['suc'].values[:-1]\n",
    "# active_df"
   ]
  },
  {
   "cell_type": "code",
   "execution_count": 84,
   "metadata": {
    "hide_input": true,
    "id": "B0B6E57B9BCF43AF9AFC2EA3775290BF",
    "jupyter": {},
    "notebookId": "61790ad0768f3b001785f2e3",
    "scrolled": true,
    "slideshow": {
     "slide_type": "slide"
    },
    "tags": []
   },
   "outputs": [
    {
     "name": "stdout",
     "output_type": "stream",
     "text": [
      "1 天留存率平均值： 0.454\n",
      "7 天留存率平均值： 0.155\n",
      "14 天留存率平均值： 0.1\n",
      "21 天留存率平均值： 0.069\n",
      "30 天留存率平均值： 0.045\n",
      "60 天留存率平均值： 0.027\n"
     ]
    }
   ],
   "source": [
    "peret = []\n",
    "for i in [1,7,14,21,30,60]:\n",
    "    cl_name = 'active'+str(i)\n",
    "    perc = (active_df.iloc[7:-i][cl_name]/active_df.iloc[7:-i].suc).mean().round(3)\n",
    "    print(i,'天留存率平均值：',perc)\n",
    "    peret.append(perc)"
   ]
  },
  {
   "cell_type": "code",
   "execution_count": 86,
   "metadata": {
    "hide_input": true,
    "id": "C26BB3E8A7E54E248A114AEFC9F8BFA0",
    "jupyter": {},
    "notebookId": "61790ad0768f3b001785f2e3",
    "scrolled": false,
    "slideshow": {
     "slide_type": "slide"
    },
    "tags": []
   },
   "outputs": [
    {
     "name": "stdout",
     "output_type": "stream",
     "text": [
      "留存率周降幅：\n",
      "1 周降幅： 0.659\n",
      "2 周降幅： 0.355\n",
      "3 周降幅： 0.31\n",
      "4 周降幅： 0.348\n"
     ]
    }
   ],
   "source": [
    "print('留存率周降幅：')\n",
    "for i in range(len(peret)-2):\n",
    "    print(i+1,'周降幅：',((peret[i]-peret[i+1])/peret[i]).round(3))"
   ]
  },
  {
   "cell_type": "markdown",
   "metadata": {
    "id": "8656DE9D348944AC83D518CFC2264194",
    "jupyter": {},
    "mdEditEnable": false,
    "notebookId": "61790ad0768f3b001785f2e3",
    "scrolled": false,
    "slideshow": {
     "slide_type": "slide"
    },
    "tags": []
   },
   "source": [
    "从留存用户的不同时间留存率看：\n",
    "* 近日留存率的水平最高，接近50%，平均值 0.454\n",
    "* 一周后的7天留存率就已经下降至 15%水平，后期的留存平均每周下降 30%左右\n",
    "\n",
    "由此看来，抓住用户，促成长期留存的关键就在**第一周**内"
   ]
  },
  {
   "cell_type": "code",
   "execution_count": 90,
   "metadata": {
    "hide_input": true,
    "id": "FA56B6B4187A4FB88E55BFBD2347A9CB",
    "jupyter": {},
    "notebookId": "61790ad0768f3b001785f2e3",
    "scrolled": false,
    "slideshow": {
     "slide_type": "slide"
    },
    "tags": []
   },
   "outputs": [
    {
     "name": "stdout",
     "output_type": "stream",
     "text": [
      "留存用户的留存率趋势\n"
     ]
    },
    {
     "data": {
      "text/html": [
       "<img src=\"https://cdn.kesci.com/upload/rt/FA56B6B4187A4FB88E55BFBD2347A9CB/r1uddf9xhp.png\">"
      ],
      "text/plain": [
       "<Figure size 720x576 with 1 Axes>"
      ]
     },
     "metadata": {
      "needs_background": "light"
     },
     "output_type": "display_data"
    },
    {
     "name": "stdout",
     "output_type": "stream",
     "text": [
      "----------------------------------------------------------------------------------\n"
     ]
    },
    {
     "data": {
      "text/html": [
       "<img src=\"https://cdn.kesci.com/upload/rt/FA56B6B4187A4FB88E55BFBD2347A9CB/r1uddg74nz.png\">"
      ],
      "text/plain": [
       "<Figure size 1440x720 with 6 Axes>"
      ]
     },
     "metadata": {
      "needs_background": "light"
     },
     "output_type": "display_data"
    }
   ],
   "source": [
    "cols = active_df.columns.to_list()[:-1]\n",
    "\n",
    "print('留存用户的留存率趋势')\n",
    "plt.figure(figsize=(10,8))\n",
    "for i in range(len(cols)):\n",
    "    (active_df[cols[i]]/active_df.suc)[7:-7].plot(alpha=0.5)\n",
    "plt.legend(['1天留存','7天留存','14天留存','21天留存','30天留存','60天留存'])\n",
    "plt.show()\n",
    "print('----------------------------------------------------------------------------------')\n",
    "plt.figure(figsize=(20,10))\n",
    "# fig,ax = plt.subplots(2,3)\n",
    "# ax.plot()\n",
    "for i in range(len(cols)):\n",
    "    plt.subplot(2, 3, i+1)\n",
    "    (active_df[cols[i]]/active_df.suc)[7:-7].plot(color='C4',alpha=0.7)\n",
    "    # ax_[i].plot(active_df[cols[i]]/active_df.suc,color='C4')\n",
    "    plt.xlabel('新增日期')\n",
    "    # plt.xticks(pd.date_range(start='2020-03-01',periods=214,freq='D').to_list())\n",
    "    plt.title('Index: {}'.format(cols[i]) )\n",
    "plt.show()\n"
   ]
  },
  {
   "cell_type": "markdown",
   "metadata": {
    "id": "6D8DF559D35C4F0AAE903B22D10000E2",
    "jupyter": {},
    "mdEditEnable": false,
    "notebookId": "61790ad0768f3b001785f2e3",
    "scrolled": true,
    "slideshow": {
     "slide_type": "slide"
    },
    "tags": []
   },
   "source": [
    "从各留存率曲线的趋势来看，近3个月（第三季度7-9月）新增的用户的留存率反而呈现轻微的增长，再结合近三个月新增用户数量的减少，可以认为最近一个季度的新增用户更属于自然增长的用户，这类用户的自驱力更强，可以当作社区活跃的中流砥柱。\n",
    "对这类用户行为的更深挖掘，可以确立社区的定位亮点。"
   ]
  },
  {
   "cell_type": "markdown",
   "metadata": {
    "id": "201D7FF9510143D88BAE49E897E398FE",
    "jupyter": {},
    "mdEditEnable": false,
    "notebookId": "61790ad0768f3b001785f2e3",
    "slideshow": {
     "slide_type": "slide"
    },
    "tags": []
   },
   "source": [
    "## 抓取焦点用户"
   ]
  },
  {
   "cell_type": "code",
   "execution_count": 13,
   "metadata": {
    "hide_input": true,
    "id": "473D4E42056A45EC8BD455AC5FFDEA83",
    "jupyter": {},
    "notebookId": "61790ad0768f3b001785f2e3",
    "scrolled": false,
    "slideshow": {
     "slide_type": "slide"
    },
    "tags": []
   },
   "outputs": [],
   "source": [
    "# 按留存user聚合统计\n",
    "agg_df_suc = agg_df[agg_df.user_id.isin(suc_id)]"
   ]
  },
  {
   "cell_type": "markdown",
   "metadata": {
    "id": "4504C96866964C519E650A6FDEC02870",
    "jupyter": {},
    "mdEditEnable": false,
    "notebookId": "61790ad0768f3b001785f2e3",
    "slideshow": {
     "slide_type": "slide"
    },
    "tags": []
   },
   "source": [
    "通过留存用户的生命周期(df_dayofperiod_ptp)与活跃天数(df_dayofperiod_nunique)的联合分布情况，可以发现：\n",
    "* 留存用户的生命周期，基本在一个月左右的水平\n",
    "* 留存用户的活跃天数更为集中，由于生命周期长度的限制，活跃天数在低数量区域内集聚"
   ]
  },
  {
   "cell_type": "code",
   "execution_count": 97,
   "metadata": {
    "hide_input": true,
    "id": "14B870656023477484E60D7965B1FC0C",
    "jupyter": {},
    "notebookId": "61790ad0768f3b001785f2e3",
    "scrolled": false,
    "slideshow": {
     "slide_type": "slide"
    },
    "tags": []
   },
   "outputs": [
    {
     "data": {
      "text/plain": [
       "<seaborn.axisgrid.JointGrid at 0x7f0247fd0860>"
      ]
     },
     "execution_count": 97,
     "metadata": {},
     "output_type": "execute_result"
    },
    {
     "data": {
      "text/plain": [
       "<Figure size 576x576 with 0 Axes>"
      ]
     },
     "metadata": {},
     "output_type": "display_data"
    },
    {
     "data": {
      "text/html": [
       "<img src=\"https://cdn.kesci.com/upload/rt/14B870656023477484E60D7965B1FC0C/r1uejo7fxh.png\">"
      ],
      "text/plain": [
       "<Figure size 432x432 with 3 Axes>"
      ]
     },
     "metadata": {
      "needs_background": "light"
     },
     "output_type": "display_data"
    }
   ],
   "source": [
    "plt.figure(figsize=(8,8))\n",
    "sns.jointplot(x=agg_df_suc.df_dayofperiod_ptp+1, y=agg_df_suc.df_dayofperiod_nunique, kind=\"kde\")"
   ]
  },
  {
   "cell_type": "markdown",
   "metadata": {
    "id": "A6CFCEC4CA824710969837732B83FC26",
    "jupyter": {},
    "mdEditEnable": false,
    "notebookId": "61790ad0768f3b001785f2e3",
    "slideshow": {
     "slide_type": "slide"
    },
    "tags": []
   },
   "source": [
    "尝试查看不同生命周期长度用户的**“活跃天数比例”** 这一指标的特征：\n",
    "* 生命长度在一周内时，活跃天数的比例还是分散的\n",
    "* 生命周期大于一周，留存用户的活跃情况就开始呈现一种稳定的模式：活跃天数比例的贬值在 0.2 左右，且随着生命周期的延长，峰值水平逐渐降低\n"
   ]
  },
  {
   "cell_type": "code",
   "execution_count": 167,
   "metadata": {
    "hide_input": true,
    "id": "B6397DC683254C4DB8EB9B3B07177339",
    "jupyter": {},
    "notebookId": "61790ad0768f3b001785f2e3",
    "scrolled": false,
    "slideshow": {
     "slide_type": "slide"
    },
    "tags": []
   },
   "outputs": [
    {
     "data": {
      "text/html": [
       "<img src=\"https://cdn.kesci.com/upload/rt/B6397DC683254C4DB8EB9B3B07177339/r1uhuzlbni.png\">"
      ],
      "text/plain": [
       "<Figure size 1296x720 with 6 Axes>"
      ]
     },
     "metadata": {
      "needs_background": "light"
     },
     "output_type": "display_data"
    }
   ],
   "source": [
    "# 不同生命周期长度用户的活跃天数比例\n",
    "plt.figure(figsize=(18,10))\n",
    "slots = [3,7,14,21,30,60]\n",
    "for i in range(len(slots)):\n",
    "    plt.subplot(2,3,i+1)\n",
    "    if i == 0:\n",
    "        my_list = agg_df_suc[agg_df_suc.df_dayofperiod_ptp+1<=7]\n",
    "        # print(my_list.head())\n",
    "        my_list = my_list.df_dayofperiod_nunique/(my_list.df_dayofperiod_ptp+1)\n",
    "        sns.distplot(a=my_list[my_list<1], kde=True,color='C3')\n",
    "        plt.xlabel('活跃天数占比')\n",
    "        plt.title('生命周期小于一周的留存用户的活跃天数比例密度图')\n",
    "    else:\n",
    "        my_list = agg_df_suc[agg_df_suc.df_dayofperiod_ptp+1<=slots[i]][agg_df_suc.df_dayofperiod_ptp+1>slots[i-1]]\n",
    "        # print(my_list.head())\n",
    "        my_list = my_list.df_dayofperiod_nunique/(my_list.df_dayofperiod_ptp+1)\n",
    "        sns.distplot(a=my_list[my_list<=1], kde=True)\n",
    "        plt.xlabel('活跃天数占比')\n",
    "        plt.title('{}-{}天生命周期留存用户的活跃天数比例密度图'.format(slots[i-1]+1,slots[i]))\n",
    "plt.show()"
   ]
  },
  {
   "cell_type": "markdown",
   "metadata": {
    "id": "303909BEE419456684B107A5A044EE1D",
    "jupyter": {},
    "mdEditEnable": false,
    "notebookId": "61790ad0768f3b001785f2e3",
    "slideshow": {
     "slide_type": "slide"
    },
    "tags": []
   },
   "source": [
    "### 定位焦点用户类型进行深入分析\n",
    "\n",
    "- 第一类用户，短生命周期 - 高活跃频率：生命周期大于7天小于60天，活跃天数比例大于0.5\n",
    "- 第二类用户，长生命周期 - 较高活跃频率：生命周期大于60天，活跃天数比例大于0.2\n"
   ]
  },
  {
   "cell_type": "code",
   "execution_count": 180,
   "metadata": {
    "hide_input": true,
    "id": "299F1CCCBF9B49D19416A08E2207D712",
    "jupyter": {},
    "notebookId": "61790ad0768f3b001785f2e3",
    "scrolled": false,
    "slideshow": {
     "slide_type": "slide"
    },
    "tags": []
   },
   "outputs": [
    {
     "data": {
      "text/plain": [
       "Text(0.5, 1.0, '留存用户的活跃情况')"
      ]
     },
     "execution_count": 180,
     "metadata": {},
     "output_type": "execute_result"
    },
    {
     "data": {
      "text/html": [
       "<img src=\"https://cdn.kesci.com/upload/rt/299F1CCCBF9B49D19416A08E2207D712/r1uj99618v.png\">"
      ],
      "text/plain": [
       "<Figure size 864x576 with 1 Axes>"
      ]
     },
     "metadata": {
      "needs_background": "light"
     },
     "output_type": "display_data"
    }
   ],
   "source": [
    "plt.figure(figsize=(12,8))\n",
    "sns.scatterplot(x=agg_df_suc.df_dayofperiod_ptp+1,\\\n",
    "y=agg_df_suc.df_dayofperiod_nunique/(agg_df_suc.df_dayofperiod_ptp+1),alpha=0.3)\n",
    "# hue=agg_df_suc.df_act_target_nunique,\n",
    "plt.xlim(8,214)\n",
    "plt.axvline(x=60,ls='--',color='C3')\n",
    "plt.axhline(y=0.2,ls='--',color='green')\n",
    "plt.axhline(y=0.5,ls='--',color='green')\n",
    "plt.xlabel('生命周期长度')\n",
    "plt.ylabel('活跃天数比例')\n",
    "plt.title('留存用户的活跃情况')"
   ]
  },
  {
   "cell_type": "markdown",
   "metadata": {
    "id": "5E56731838F740D183BEFEE4BE502347",
    "jupyter": {},
    "mdEditEnable": false,
    "notebookId": "61790ad0768f3b001785f2e3",
    "slideshow": {
     "slide_type": "slide"
    },
    "tags": []
   },
   "source": [
    "那么，两类焦点用户群体，与留存用户总体相比是否有什么独特的行为模式吗？\n",
    "接下来，进一步分析两种类型的用户在进入社区的初期（首周及首日）行为特征"
   ]
  },
  {
   "cell_type": "markdown",
   "metadata": {
    "id": "3DC48FE970E74ADA894413904727DA87",
    "jupyter": {},
    "mdEditEnable": false,
    "notebookId": "61790ad0768f3b001785f2e3",
    "scrolled": true,
    "slideshow": {
     "slide_type": "slide"
    },
    "tags": []
   },
   "source": [
    "## 核心用户分析初期行为分析"
   ]
  },
  {
   "cell_type": "code",
   "execution_count": 14,
   "metadata": {
    "hide_input": true,
    "id": "1811C76F7C7644578CE7212E25B847E0",
    "jupyter": {},
    "notebookId": "61790ad0768f3b001785f2e3",
    "scrolled": false,
    "slideshow": {
     "slide_type": "slide"
    },
    "tags": []
   },
   "outputs": [],
   "source": [
    "# 提取两类目标群体的user_id\n",
    "sub1_id = agg_df_suc[agg_df_suc.df_dayofperiod_ptp.isin([14,60])][agg_df_suc.act_perc>0.5].user_id\n",
    "sub2_id = agg_df_suc[agg_df_suc.df_dayofperiod_ptp>=60][agg_df_suc.act_perc>0.2].user_id"
   ]
  },
  {
   "cell_type": "code",
   "execution_count": 15,
   "metadata": {
    "hide_input": true,
    "id": "EAA3B473411041CCB4F204C73A5BBAF2",
    "jupyter": {},
    "notebookId": "61790ad0768f3b001785f2e3",
    "scrolled": false,
    "slideshow": {
     "slide_type": "slide"
    },
    "tags": []
   },
   "outputs": [],
   "source": [
    "df_act7 = df[df.active_day<7]\n",
    "df_act1 = df[df.active_day<1]"
   ]
  },
  {
   "cell_type": "code",
   "execution_count": 32,
   "metadata": {
    "hide_input": true,
    "id": "D4DE4C4151C04E299D9CE13B6BDE50DC",
    "jupyter": {},
    "notebookId": "61790ad0768f3b001785f2e3",
    "scrolled": false,
    "slideshow": {
     "slide_type": "slide"
    },
    "tags": []
   },
   "outputs": [],
   "source": [
    "# 定义注册后第一周内的聚合统计表\n",
    "agg_act7 = (df_act7.pivot_table(index='user_id',columns='act_target',values='target_id',aggfunc=['count'])/7).fillna(0)\n",
    "agg_act7.columns = pd.Series(df_act7.act_target.unique()).sort_values()\n",
    "agg_act7 = agg_act7.reset_index()\n",
    "agg_act7 = agg_act7.merge(agg_df[['user_id','df_dayofperiod_ptp','act_perc']])\n",
    "\n",
    "aggs = {\n",
    "    'dayofperiod':['count','nunique'],\n",
    "    'action_name':['nunique'],\n",
    "    'target_cat':['nunique'],\n",
    "    'act_target':['nunique']\n",
    "}\n",
    "agg_df_p = df_act7.groupby('user_id').agg(aggs)\n",
    "agg_df_p.columns = ['_'.join(col).strip() for col in agg_df_p.columns.values]\n",
    "agg_df_p = agg_df_p.reset_index()\n",
    "agg_df_p['w_act_perc'] = agg_df_p.dayofperiod_nunique/7\n",
    "agg_df_p['dayofperiod_count'] = agg_df_p.dayofperiod_count/7\n",
    "\n",
    "agg_act7 = agg_act7.merge(agg_df_p)\n",
    "# agg_act7"
   ]
  },
  {
   "cell_type": "code",
   "execution_count": 33,
   "metadata": {
    "hide_input": true,
    "id": "96CCB3358BEF4BBA9E650502EA1FF401",
    "jupyter": {},
    "notebookId": "61790ad0768f3b001785f2e3",
    "scrolled": false,
    "slideshow": {
     "slide_type": "slide"
    },
    "tags": []
   },
   "outputs": [],
   "source": [
    "df_act7_suc = df_act7[df_act7.user_id.isin(suc_id)]\n",
    "df_act7_sub1 = df_act7[df_act7.user_id.isin(sub1_id)]\n",
    "df_act7_sub2 = df_act7[df_act7.user_id.isin(sub2_id)]\n",
    "agg_act7_suc = agg_act7[agg_act7.user_id.isin(suc_id)]\n",
    "agg_act7_sub1 = agg_act7[agg_act7.user_id.isin(sub1_id)]\n",
    "agg_act7_sub2 = agg_act7[agg_act7.user_id.isin(sub2_id)]"
   ]
  },
  {
   "cell_type": "code",
   "execution_count": 34,
   "metadata": {
    "hide_input": true,
    "id": "0B92923D59184D5A859E127D9137F663",
    "jupyter": {},
    "notebookId": "61790ad0768f3b001785f2e3",
    "scrolled": false,
    "slideshow": {
     "slide_type": "slide"
    },
    "tags": []
   },
   "outputs": [],
   "source": [
    "sum7_suc = agg_act7_suc.mean()\n",
    "sum7_sub1 = agg_act7_sub1.mean()\n",
    "sum7_sub2 = agg_act7_sub2.mean()\n",
    "sum7_df = pd.concat([sum7_suc,sum7_sub1,sum7_sub2],axis=1)\n",
    "sum7_df.columns = ['suc_w','sub1_w','sub2_w']\n",
    "# sum7_df"
   ]
  },
  {
   "cell_type": "code",
   "execution_count": 35,
   "metadata": {
    "hide_input": true,
    "id": "C7252066B33743FFBB60979147250108",
    "jupyter": {},
    "notebookId": "61790ad0768f3b001785f2e3",
    "scrolled": false,
    "slideshow": {
     "slide_type": "slide"
    },
    "tags": []
   },
   "outputs": [],
   "source": [
    "# 定义初次登录当天的聚合统计表\n",
    "agg_act1 = df_act1.pivot_table(index='user_id',columns='act_target',values='target_id',aggfunc=['count']).fillna(0)\n",
    "agg_act1.columns = pd.Series(df_act1.act_target.unique()).sort_values()\n",
    "agg_act1 = agg_act1.reset_index()\n",
    "agg_act1 = agg_act1.merge(agg_df[['user_id','df_dayofperiod_ptp','act_perc']])\n",
    "\n",
    "aggs = {\n",
    "    'dayofperiod':['count','nunique'],\n",
    "    'action_name':['nunique'],\n",
    "    'target_cat':['nunique'],\n",
    "    'act_target':['nunique']\n",
    "}\n",
    "agg_df_p = df_act1.groupby('user_id').agg(aggs)\n",
    "agg_df_p.columns = ['_'.join(col).strip() for col in agg_df_p.columns.values]\n",
    "agg_df_p = agg_df_p.reset_index()\n",
    "\n",
    "agg_act1 = agg_act1.merge(agg_df_p)\n",
    "# agg_act1"
   ]
  },
  {
   "cell_type": "code",
   "execution_count": 36,
   "metadata": {
    "hide_input": true,
    "id": "6D930514C3F046D89A5D8171581DBD07",
    "jupyter": {},
    "notebookId": "61790ad0768f3b001785f2e3",
    "scrolled": false,
    "slideshow": {
     "slide_type": "slide"
    },
    "tags": []
   },
   "outputs": [],
   "source": [
    "df_act1_suc = df_act1[df_act1.user_id.isin(suc_id)]\n",
    "df_act1_nsuc = df_act1[~df_act1.user_id.isin(suc_id)]\n",
    "df_act1_sub1 = df_act1[df_act1.user_id.isin(sub1_id)]\n",
    "df_act1_sub2 = df_act1[df_act1.user_id.isin(sub2_id)]\n",
    "agg_act1_suc = agg_act1[agg_act1.user_id.isin(suc_id)]\n",
    "agg_act1_nsuc = agg_act1[~agg_act1.user_id.isin(suc_id)]\n",
    "agg_act1_sub1 = agg_act1[agg_act1.user_id.isin(sub1_id)]\n",
    "agg_act1_sub2 = agg_act1[agg_act1.user_id.isin(sub2_id)]"
   ]
  },
  {
   "cell_type": "code",
   "execution_count": 37,
   "metadata": {
    "hide_input": true,
    "id": "250EEF461CC647D18525E324FA6EA9AD",
    "jupyter": {},
    "notebookId": "61790ad0768f3b001785f2e3",
    "scrolled": false,
    "slideshow": {
     "slide_type": "slide"
    },
    "tags": []
   },
   "outputs": [],
   "source": [
    "sum1_nsuc = agg_act1_nsuc.mean()\n",
    "sum1_suc = agg_act1_suc.mean()\n",
    "sum1_sub1 = agg_act1_sub1.mean()\n",
    "sum1_sub2 = agg_act1_sub2.mean()\n",
    "sum1_df = pd.concat([sum1_nsuc,sum1_suc,sum1_sub1,sum1_sub2],axis=1)\n",
    "sum1_df.columns = ['nsuc_d','suc_d','sub1_d','sub2_d']\n",
    "# sum1_df"
   ]
  },
  {
   "cell_type": "markdown",
   "metadata": {
    "id": "1F94D2567A19466A88317837F25D969D",
    "jupyter": {},
    "mdEditEnable": false,
    "notebookId": "61790ad0768f3b001785f2e3",
    "slideshow": {
     "slide_type": "slide"
    },
    "tags": []
   },
   "source": [
    "### 活跃情况"
   ]
  },
  {
   "cell_type": "markdown",
   "metadata": {
    "id": "F178D78C0CBC4FEAB24A02CEAEDDA54E",
    "jupyter": {},
    "mdEditEnable": false,
    "notebookId": "61790ad0768f3b001785f2e3",
    "scrolled": true,
    "slideshow": {
     "slide_type": "slide"
    },
    "tags": []
   },
   "source": [
    "从图中可以看到，两类核心人群在新增后的首周内每天的活跃度均比留存用户总体要高。\n",
    "留存用户的首周的活跃趋势呈现明显减弱的趋势，但是两类核心群体在当周的后半段稳定在四成的活跃人数水平，第一类用户的活跃水平更高。"
   ]
  },
  {
   "cell_type": "code",
   "execution_count": 146,
   "metadata": {
    "hide_input": true,
    "id": "155367F34EA746E48946DE3EE841331A",
    "jupyter": {},
    "notebookId": "61790ad0768f3b001785f2e3",
    "scrolled": false,
    "slideshow": {
     "slide_type": "slide"
    },
    "tags": []
   },
   "outputs": [
    {
     "data": {
      "text/plain": [
       "Text(0.5, 1.0, 'UV of 第二类用户')"
      ]
     },
     "execution_count": 146,
     "metadata": {},
     "output_type": "execute_result"
    },
    {
     "data": {
      "text/html": [
       "<img src=\"https://cdn.kesci.com/upload/rt/155367F34EA746E48946DE3EE841331A/r1wg2gj3oq.png\">"
      ],
      "text/plain": [
       "<Figure size 1152x720 with 6 Axes>"
      ]
     },
     "metadata": {
      "needs_background": "light"
     },
     "output_type": "display_data"
    }
   ],
   "source": [
    "# 看首次登录后一周内不同日子的情况\n",
    "# print('留存用户首次登录后一周内的活跃情况')\n",
    "\n",
    "plt.figure(figsize=(16,10))\n",
    "plt.subplot(2, 3, 1)\n",
    "(df_act7_suc.groupby('active_day')['user_id'].count()/len(suc_id)).plot(color='C3')\n",
    "plt.ylim(0,10)\n",
    "plt.title('PV of 留存用户')\n",
    "\n",
    "plt.subplot(2, 3, 4)\n",
    "(df_act7_suc.groupby('active_day')['user_id'].nunique() / len(suc_id)).plot()\n",
    "plt.ylim(0,1)\n",
    "plt.title('UV of 留存用户')\n",
    "\n",
    "# sub1\n",
    "plt.subplot(2, 3, 2)\n",
    "(df_act7_sub1.groupby('active_day')['user_id'].count()/len(sub1_id)).plot(color='C3')\n",
    "plt.ylim(0,10)\n",
    "plt.title('PV of 第一类用户')\n",
    "\n",
    "plt.subplot(2, 3, 5)\n",
    "(df_act7_sub1.groupby('active_day')['user_id'].nunique() / len(sub1_id)).plot()\n",
    "plt.ylim(0,1)\n",
    "plt.title('UV of 第一类用户')\n",
    "\n",
    "# sub2\n",
    "plt.subplot(2, 3, 3)\n",
    "(df_act7_sub2.groupby('active_day')['user_id'].count()/len(sub2_id)).plot(color='C3')\n",
    "plt.ylim(0,10)\n",
    "plt.title('PV of 第二类用户')\n",
    "\n",
    "plt.subplot(2, 3, 6)\n",
    "(df_act7_sub2.groupby('active_day')['user_id'].nunique() / len(sub2_id)).plot()\n",
    "plt.ylim(0,1)\n",
    "plt.title('UV of 第二类用户')"
   ]
  },
  {
   "cell_type": "markdown",
   "metadata": {
    "id": "D152DD36FE8146E081904DD9006DA937",
    "jupyter": {},
    "mdEditEnable": false,
    "notebookId": "61790ad0768f3b001785f2e3",
    "scrolled": false,
    "slideshow": {
     "slide_type": "slide"
    },
    "tags": []
   },
   "source": [
    "看自然星期日的用户活跃度，第一类用户的低活跃日为周二和周六，而留存总体和第二类用户的低活跃日为周五和周六。"
   ]
  },
  {
   "cell_type": "code",
   "execution_count": 139,
   "metadata": {
    "hide_input": true,
    "id": "A6BD8FA0C0C847AC8070E2961A6AE9DD",
    "jupyter": {},
    "notebookId": "61790ad0768f3b001785f2e3",
    "scrolled": false,
    "slideshow": {
     "slide_type": "slide"
    },
    "tags": []
   },
   "outputs": [
    {
     "data": {
      "text/plain": [
       "Text(0.5, 1.0, 'UV of 第二类用户')"
      ]
     },
     "execution_count": 139,
     "metadata": {},
     "output_type": "execute_result"
    },
    {
     "data": {
      "text/html": [
       "<img src=\"https://cdn.kesci.com/upload/rt/A6BD8FA0C0C847AC8070E2961A6AE9DD/r1wfsvdwuv.png\">"
      ],
      "text/plain": [
       "<Figure size 1152x720 with 6 Axes>"
      ]
     },
     "metadata": {
      "needs_background": "light"
     },
     "output_type": "display_data"
    }
   ],
   "source": [
    "# 看首次登录后一周内不同日子的情况\n",
    "# print('留存用户首次登录后一周内的活跃情况')\n",
    "\n",
    "plt.figure(figsize=(16,10))\n",
    "plt.subplot(2, 3, 1)\n",
    "(df_act7_suc.groupby('weekday')['user_id'].count()/len(suc_id)).plot(color='C3')\n",
    "plt.ylim(0,10)\n",
    "plt.title('PV of 留存用户')\n",
    "\n",
    "plt.subplot(2, 3, 4)\n",
    "(df_act7_suc.groupby('weekday')['user_id'].nunique() / len(suc_id)).plot()\n",
    "plt.ylim(0,1)\n",
    "plt.title('UV of 留存用户')\n",
    "\n",
    "# sub1\n",
    "plt.subplot(2, 3, 2)\n",
    "(df_act7_sub1.groupby('weekday')['user_id'].count()/len(sub1_id)).plot(color='C3')\n",
    "plt.ylim(0,10)\n",
    "plt.title('PV of 第一类用户')\n",
    "\n",
    "plt.subplot(2, 3, 5)\n",
    "(df_act7_sub1.groupby('weekday')['user_id'].nunique() / len(sub1_id)).plot()\n",
    "plt.ylim(0,1)\n",
    "plt.title('UV of 第一类用户')\n",
    "\n",
    "# sub2\n",
    "plt.subplot(2, 3, 3)\n",
    "(df_act7_sub2.groupby('weekday')['user_id'].count()/len(sub2_id)).plot(color='C3')\n",
    "plt.ylim(0,10)\n",
    "plt.title('PV of 第二类用户')\n",
    "\n",
    "plt.subplot(2, 3, 6)\n",
    "(df_act7_sub2.groupby('weekday')['user_id'].nunique() / len(sub2_id)).plot()\n",
    "plt.ylim(0,1)\n",
    "plt.title('UV of 第二类用户')"
   ]
  },
  {
   "cell_type": "markdown",
   "metadata": {
    "id": "B7795012170E497B8968F500B0D85A4E",
    "jupyter": {},
    "mdEditEnable": false,
    "notebookId": "61790ad0768f3b001785f2e3",
    "slideshow": {
     "slide_type": "slide"
    },
    "tags": []
   },
   "source": [
    "从一天中活跃时间段维度来对比，社区用户基本都是在一天中的10点、15点和20点三个时间点附近最为活跃，活跃时间峰值都是15点。\n",
    "第二类用户的整体模式与留存用户整体更接近。\n",
    "比较来看，第一类用户在更晚时间段(22点后)的活跃度下降明显，猜测该类用户中是否由更多的学生组成？"
   ]
  },
  {
   "cell_type": "code",
   "execution_count": 140,
   "metadata": {
    "hide_input": true,
    "id": "A171157FB16A42AF8F07447E9AAB4A4C",
    "jupyter": {},
    "notebookId": "61790ad0768f3b001785f2e3",
    "scrolled": false,
    "slideshow": {
     "slide_type": "slide"
    },
    "tags": []
   },
   "outputs": [
    {
     "data": {
      "text/plain": [
       "Text(0.5, 1.0, 'UV of 第二类用户')"
      ]
     },
     "execution_count": 140,
     "metadata": {},
     "output_type": "execute_result"
    },
    {
     "data": {
      "text/html": [
       "<img src=\"https://cdn.kesci.com/upload/rt/A171157FB16A42AF8F07447E9AAB4A4C/r1wftfamcu.png\">"
      ],
      "text/plain": [
       "<Figure size 1152x720 with 6 Axes>"
      ]
     },
     "metadata": {
      "needs_background": "light"
     },
     "output_type": "display_data"
    }
   ],
   "source": [
    "# 一天中不同时间的情况\n",
    "# print('一天中不同时间的日均活跃情况')\n",
    "\n",
    "plt.figure(figsize=(16,10))\n",
    "plt.subplot(2, 3, 1)\n",
    "(df_act7_suc.groupby('hour')['user_id'].count()/len(suc_id)).plot(color='C3')\n",
    "plt.ylim(0,4)\n",
    "plt.title('留存用户 一周人均PV')\n",
    "\n",
    "plt.subplot(2, 3, 4)\n",
    "(df_act7_suc.groupby('hour')['user_id'].nunique() / len(suc_id)).plot()\n",
    "plt.ylim(0,0.7)\n",
    "plt.title('UV of 留存用户')\n",
    "\n",
    "# sub1\n",
    "plt.subplot(2, 3, 2)\n",
    "(df_act7_sub1.groupby('hour')['user_id'].count()/len(sub1_id)).plot(color='C3')\n",
    "plt.ylim(0,4)\n",
    "plt.title('第一类用户 一周人均PV')\n",
    "\n",
    "plt.subplot(2, 3, 5)\n",
    "(df_act7_sub1.groupby('hour')['user_id'].nunique() / len(sub1_id)).plot()\n",
    "plt.ylim(0,0.7)\n",
    "plt.title('UV of 第一类用户')\n",
    "\n",
    "# sub2\n",
    "plt.subplot(2, 3, 3)\n",
    "(df_act7_sub2.groupby('hour')['user_id'].count()/len(sub2_id)).plot(color='C3')\n",
    "plt.ylim(0,4)\n",
    "plt.title('第二类用户 一周人均PV')\n",
    "\n",
    "plt.subplot(2, 3, 6)\n",
    "(df_act7_sub2.groupby('hour')['user_id'].nunique() / len(sub2_id)).plot()\n",
    "plt.ylim(0,0.7)\n",
    "plt.title('UV of 第二类用户')\n"
   ]
  },
  {
   "cell_type": "markdown",
   "metadata": {
    "id": "9FBBFA614CDE43F6831B24849CD193C5",
    "jupyter": {},
    "mdEditEnable": false,
    "notebookId": "61790ad0768f3b001785f2e3",
    "slideshow": {
     "slide_type": "slide"
    },
    "tags": []
   },
   "source": [
    "### 行为模式"
   ]
  },
  {
   "cell_type": "markdown",
   "metadata": {
    "id": "C15D606B862640DB85070859E8936058",
    "jupyter": {},
    "mdEditEnable": false,
    "notebookId": "61790ad0768f3b001785f2e3",
    "scrolled": true,
    "slideshow": {
     "slide_type": "slide"
    },
    "tags": []
   },
   "source": [
    "那么不同类型的用户在初次登录社区后的第一周都做了哪些行为呢？\n",
    "尤其是两类核心的焦点用户群，是否有某项行为导致了他们相比普通用户来说更为活跃呢？"
   ]
  },
  {
   "cell_type": "code",
   "execution_count": 22,
   "metadata": {
    "hide_input": true,
    "id": "A3B9CCE6BC1D42608EFA4DC94ED9E8A4",
    "jupyter": {},
    "notebookId": "61790ad0768f3b001785f2e3",
    "scrolled": false,
    "slideshow": {
     "slide_type": "slide"
    },
    "tags": []
   },
   "outputs": [
    {
     "name": "stdout",
     "output_type": "stream",
     "text": [
      "留存用户在初次使用第一周的行为比例：\n",
      "--------------------------------\n"
     ]
    },
    {
     "data": {
      "text/html": [
       "<div>\n",
       "<style scoped>\n",
       "    .dataframe tbody tr th:only-of-type {\n",
       "        vertical-align: middle;\n",
       "    }\n",
       "\n",
       "    .dataframe tbody tr th {\n",
       "        vertical-align: top;\n",
       "    }\n",
       "\n",
       "    .dataframe thead tr th {\n",
       "        text-align: left;\n",
       "    }\n",
       "\n",
       "    .dataframe thead tr:last-of-type th {\n",
       "        text-align: right;\n",
       "    }\n",
       "</style>\n",
       "<table border=\"1\" class=\"dataframe\">\n",
       "  <thead>\n",
       "    <tr>\n",
       "      <th></th>\n",
       "      <th colspan=\"7\" halign=\"left\">nunique</th>\n",
       "    </tr>\n",
       "    <tr>\n",
       "      <th>action_name</th>\n",
       "      <th>buy</th>\n",
       "      <th>comp</th>\n",
       "      <th>mark</th>\n",
       "      <th>reward</th>\n",
       "      <th>share</th>\n",
       "      <th>view</th>\n",
       "      <th>vote</th>\n",
       "    </tr>\n",
       "    <tr>\n",
       "      <th>target_cat</th>\n",
       "      <th></th>\n",
       "      <th></th>\n",
       "      <th></th>\n",
       "      <th></th>\n",
       "      <th></th>\n",
       "      <th></th>\n",
       "      <th></th>\n",
       "    </tr>\n",
       "  </thead>\n",
       "  <tbody>\n",
       "    <tr>\n",
       "      <td>0</td>\n",
       "      <td>-</td>\n",
       "      <td>-</td>\n",
       "      <td>-</td>\n",
       "      <td>0.226</td>\n",
       "      <td>-</td>\n",
       "      <td>-</td>\n",
       "      <td>-</td>\n",
       "    </tr>\n",
       "    <tr>\n",
       "      <td>1</td>\n",
       "      <td>-</td>\n",
       "      <td>-</td>\n",
       "      <td>-</td>\n",
       "      <td>0.011</td>\n",
       "      <td>-</td>\n",
       "      <td>-</td>\n",
       "      <td>-</td>\n",
       "    </tr>\n",
       "    <tr>\n",
       "      <td>5</td>\n",
       "      <td>-</td>\n",
       "      <td>-</td>\n",
       "      <td>0.095</td>\n",
       "      <td>-</td>\n",
       "      <td>0.28</td>\n",
       "      <td>0.748</td>\n",
       "      <td>0.055</td>\n",
       "    </tr>\n",
       "    <tr>\n",
       "      <td>6</td>\n",
       "      <td>0.499</td>\n",
       "      <td>-</td>\n",
       "      <td>0.046</td>\n",
       "      <td>-</td>\n",
       "      <td>-</td>\n",
       "      <td>0.741</td>\n",
       "      <td>0.021</td>\n",
       "    </tr>\n",
       "    <tr>\n",
       "      <td>A</td>\n",
       "      <td>-</td>\n",
       "      <td>0.015</td>\n",
       "      <td>-</td>\n",
       "      <td>-</td>\n",
       "      <td>-</td>\n",
       "      <td>-</td>\n",
       "      <td>-</td>\n",
       "    </tr>\n",
       "    <tr>\n",
       "      <td>B</td>\n",
       "      <td>-</td>\n",
       "      <td>0.001</td>\n",
       "      <td>-</td>\n",
       "      <td>-</td>\n",
       "      <td>-</td>\n",
       "      <td>-</td>\n",
       "      <td>-</td>\n",
       "    </tr>\n",
       "    <tr>\n",
       "      <td>C</td>\n",
       "      <td>-</td>\n",
       "      <td>0.013</td>\n",
       "      <td>-</td>\n",
       "      <td>-</td>\n",
       "      <td>-</td>\n",
       "      <td>-</td>\n",
       "      <td>-</td>\n",
       "    </tr>\n",
       "    <tr>\n",
       "      <td>D</td>\n",
       "      <td>-</td>\n",
       "      <td>0.043</td>\n",
       "      <td>-</td>\n",
       "      <td>-</td>\n",
       "      <td>-</td>\n",
       "      <td>-</td>\n",
       "      <td>-</td>\n",
       "    </tr>\n",
       "    <tr>\n",
       "      <td>E</td>\n",
       "      <td>-</td>\n",
       "      <td>0.058</td>\n",
       "      <td>-</td>\n",
       "      <td>-</td>\n",
       "      <td>-</td>\n",
       "      <td>-</td>\n",
       "      <td>-</td>\n",
       "    </tr>\n",
       "  </tbody>\n",
       "</table>\n",
       "</div>"
      ],
      "text/plain": [
       "            nunique                                         \n",
       "action_name     buy   comp   mark reward share   view   vote\n",
       "target_cat                                                  \n",
       "0                 -      -      -  0.226     -      -      -\n",
       "1                 -      -      -  0.011     -      -      -\n",
       "5                 -      -  0.095      -  0.28  0.748  0.055\n",
       "6             0.499      -  0.046      -     -  0.741  0.021\n",
       "A                 -  0.015      -      -     -      -      -\n",
       "B                 -  0.001      -      -     -      -      -\n",
       "C                 -  0.013      -      -     -      -      -\n",
       "D                 -  0.043      -      -     -      -      -\n",
       "E                 -  0.058      -      -     -      -      -"
      ]
     },
     "execution_count": 22,
     "metadata": {},
     "output_type": "execute_result"
    }
   ],
   "source": [
    "print('留存用户在初次使用第一周的行为比例：')\n",
    "print('--------------------------------')\n",
    "(df_act7_suc.pivot_table(index='target_cat',columns='action_name',values='user_id'\\\n",
    ",aggfunc=['nunique'])/len(suc_id)).round(3).fillna('-')"
   ]
  },
  {
   "cell_type": "code",
   "execution_count": 23,
   "metadata": {
    "hide_input": true,
    "id": "FEAA1B9E89CA417E8DEFA61E6A285CD7",
    "jupyter": {},
    "notebookId": "61790ad0768f3b001785f2e3",
    "scrolled": false,
    "slideshow": {
     "slide_type": "slide"
    },
    "tags": []
   },
   "outputs": [
    {
     "name": "stdout",
     "output_type": "stream",
     "text": [
      "第一类用户在初次使用第一周的行为比例：\n",
      "--------------------------------\n"
     ]
    },
    {
     "data": {
      "text/html": [
       "<div>\n",
       "<style scoped>\n",
       "    .dataframe tbody tr th:only-of-type {\n",
       "        vertical-align: middle;\n",
       "    }\n",
       "\n",
       "    .dataframe tbody tr th {\n",
       "        vertical-align: top;\n",
       "    }\n",
       "\n",
       "    .dataframe thead tr th {\n",
       "        text-align: left;\n",
       "    }\n",
       "\n",
       "    .dataframe thead tr:last-of-type th {\n",
       "        text-align: right;\n",
       "    }\n",
       "</style>\n",
       "<table border=\"1\" class=\"dataframe\">\n",
       "  <thead>\n",
       "    <tr>\n",
       "      <th></th>\n",
       "      <th colspan=\"7\" halign=\"left\">nunique</th>\n",
       "    </tr>\n",
       "    <tr>\n",
       "      <th>action_name</th>\n",
       "      <th>buy</th>\n",
       "      <th>comp</th>\n",
       "      <th>mark</th>\n",
       "      <th>reward</th>\n",
       "      <th>share</th>\n",
       "      <th>view</th>\n",
       "      <th>vote</th>\n",
       "    </tr>\n",
       "    <tr>\n",
       "      <th>target_cat</th>\n",
       "      <th></th>\n",
       "      <th></th>\n",
       "      <th></th>\n",
       "      <th></th>\n",
       "      <th></th>\n",
       "      <th></th>\n",
       "      <th></th>\n",
       "    </tr>\n",
       "  </thead>\n",
       "  <tbody>\n",
       "    <tr>\n",
       "      <td>0</td>\n",
       "      <td>-</td>\n",
       "      <td>-</td>\n",
       "      <td>-</td>\n",
       "      <td>0.394</td>\n",
       "      <td>-</td>\n",
       "      <td>-</td>\n",
       "      <td>-</td>\n",
       "    </tr>\n",
       "    <tr>\n",
       "      <td>1</td>\n",
       "      <td>-</td>\n",
       "      <td>-</td>\n",
       "      <td>-</td>\n",
       "      <td>0.07</td>\n",
       "      <td>-</td>\n",
       "      <td>-</td>\n",
       "      <td>-</td>\n",
       "    </tr>\n",
       "    <tr>\n",
       "      <td>5</td>\n",
       "      <td>-</td>\n",
       "      <td>-</td>\n",
       "      <td>0.155</td>\n",
       "      <td>-</td>\n",
       "      <td>0.408</td>\n",
       "      <td>0.831</td>\n",
       "      <td>0.085</td>\n",
       "    </tr>\n",
       "    <tr>\n",
       "      <td>6</td>\n",
       "      <td>0.479</td>\n",
       "      <td>-</td>\n",
       "      <td>0.042</td>\n",
       "      <td>-</td>\n",
       "      <td>-</td>\n",
       "      <td>0.789</td>\n",
       "      <td>-</td>\n",
       "    </tr>\n",
       "    <tr>\n",
       "      <td>A</td>\n",
       "      <td>-</td>\n",
       "      <td>0.042</td>\n",
       "      <td>-</td>\n",
       "      <td>-</td>\n",
       "      <td>-</td>\n",
       "      <td>-</td>\n",
       "      <td>-</td>\n",
       "    </tr>\n",
       "    <tr>\n",
       "      <td>C</td>\n",
       "      <td>-</td>\n",
       "      <td>0.014</td>\n",
       "      <td>-</td>\n",
       "      <td>-</td>\n",
       "      <td>-</td>\n",
       "      <td>-</td>\n",
       "      <td>-</td>\n",
       "    </tr>\n",
       "    <tr>\n",
       "      <td>D</td>\n",
       "      <td>-</td>\n",
       "      <td>0.085</td>\n",
       "      <td>-</td>\n",
       "      <td>-</td>\n",
       "      <td>-</td>\n",
       "      <td>-</td>\n",
       "      <td>-</td>\n",
       "    </tr>\n",
       "    <tr>\n",
       "      <td>E</td>\n",
       "      <td>-</td>\n",
       "      <td>0.085</td>\n",
       "      <td>-</td>\n",
       "      <td>-</td>\n",
       "      <td>-</td>\n",
       "      <td>-</td>\n",
       "      <td>-</td>\n",
       "    </tr>\n",
       "  </tbody>\n",
       "</table>\n",
       "</div>"
      ],
      "text/plain": [
       "            nunique                                          \n",
       "action_name     buy   comp   mark reward  share   view   vote\n",
       "target_cat                                                   \n",
       "0                 -      -      -  0.394      -      -      -\n",
       "1                 -      -      -   0.07      -      -      -\n",
       "5                 -      -  0.155      -  0.408  0.831  0.085\n",
       "6             0.479      -  0.042      -      -  0.789      -\n",
       "A                 -  0.042      -      -      -      -      -\n",
       "C                 -  0.014      -      -      -      -      -\n",
       "D                 -  0.085      -      -      -      -      -\n",
       "E                 -  0.085      -      -      -      -      -"
      ]
     },
     "execution_count": 23,
     "metadata": {},
     "output_type": "execute_result"
    }
   ],
   "source": [
    "print('第一类用户在初次使用第一周的行为比例：')\n",
    "print('--------------------------------')\n",
    "(df_act7_sub1.pivot_table(index='target_cat',columns='action_name',values='user_id'\\\n",
    ",aggfunc=['nunique'])/len(sub1_id)).round(3).fillna('-')"
   ]
  },
  {
   "cell_type": "code",
   "execution_count": 24,
   "metadata": {
    "hide_input": true,
    "id": "31F5D66963CE48D9869A18EC762A9E4C",
    "jupyter": {},
    "notebookId": "61790ad0768f3b001785f2e3",
    "scrolled": false,
    "slideshow": {
     "slide_type": "slide"
    },
    "tags": []
   },
   "outputs": [
    {
     "name": "stdout",
     "output_type": "stream",
     "text": [
      "第二类用户在初次使用第一周的行为比例：\n",
      "--------------------------------\n"
     ]
    },
    {
     "data": {
      "text/html": [
       "<div>\n",
       "<style scoped>\n",
       "    .dataframe tbody tr th:only-of-type {\n",
       "        vertical-align: middle;\n",
       "    }\n",
       "\n",
       "    .dataframe tbody tr th {\n",
       "        vertical-align: top;\n",
       "    }\n",
       "\n",
       "    .dataframe thead tr th {\n",
       "        text-align: left;\n",
       "    }\n",
       "\n",
       "    .dataframe thead tr:last-of-type th {\n",
       "        text-align: right;\n",
       "    }\n",
       "</style>\n",
       "<table border=\"1\" class=\"dataframe\">\n",
       "  <thead>\n",
       "    <tr>\n",
       "      <th></th>\n",
       "      <th colspan=\"7\" halign=\"left\">nunique</th>\n",
       "    </tr>\n",
       "    <tr>\n",
       "      <th>action_name</th>\n",
       "      <th>buy</th>\n",
       "      <th>comp</th>\n",
       "      <th>mark</th>\n",
       "      <th>reward</th>\n",
       "      <th>share</th>\n",
       "      <th>view</th>\n",
       "      <th>vote</th>\n",
       "    </tr>\n",
       "    <tr>\n",
       "      <th>target_cat</th>\n",
       "      <th></th>\n",
       "      <th></th>\n",
       "      <th></th>\n",
       "      <th></th>\n",
       "      <th></th>\n",
       "      <th></th>\n",
       "      <th></th>\n",
       "    </tr>\n",
       "  </thead>\n",
       "  <tbody>\n",
       "    <tr>\n",
       "      <td>0</td>\n",
       "      <td>-</td>\n",
       "      <td>-</td>\n",
       "      <td>-</td>\n",
       "      <td>0.398</td>\n",
       "      <td>-</td>\n",
       "      <td>-</td>\n",
       "      <td>-</td>\n",
       "    </tr>\n",
       "    <tr>\n",
       "      <td>1</td>\n",
       "      <td>-</td>\n",
       "      <td>-</td>\n",
       "      <td>-</td>\n",
       "      <td>0.016</td>\n",
       "      <td>-</td>\n",
       "      <td>-</td>\n",
       "      <td>-</td>\n",
       "    </tr>\n",
       "    <tr>\n",
       "      <td>5</td>\n",
       "      <td>-</td>\n",
       "      <td>-</td>\n",
       "      <td>0.164</td>\n",
       "      <td>-</td>\n",
       "      <td>0.428</td>\n",
       "      <td>0.895</td>\n",
       "      <td>0.119</td>\n",
       "    </tr>\n",
       "    <tr>\n",
       "      <td>6</td>\n",
       "      <td>0.44</td>\n",
       "      <td>-</td>\n",
       "      <td>0.047</td>\n",
       "      <td>-</td>\n",
       "      <td>-</td>\n",
       "      <td>0.755</td>\n",
       "      <td>0.026</td>\n",
       "    </tr>\n",
       "    <tr>\n",
       "      <td>A</td>\n",
       "      <td>-</td>\n",
       "      <td>0.043</td>\n",
       "      <td>-</td>\n",
       "      <td>-</td>\n",
       "      <td>-</td>\n",
       "      <td>-</td>\n",
       "      <td>-</td>\n",
       "    </tr>\n",
       "    <tr>\n",
       "      <td>C</td>\n",
       "      <td>-</td>\n",
       "      <td>0.021</td>\n",
       "      <td>-</td>\n",
       "      <td>-</td>\n",
       "      <td>-</td>\n",
       "      <td>-</td>\n",
       "      <td>-</td>\n",
       "    </tr>\n",
       "    <tr>\n",
       "      <td>D</td>\n",
       "      <td>-</td>\n",
       "      <td>0.032</td>\n",
       "      <td>-</td>\n",
       "      <td>-</td>\n",
       "      <td>-</td>\n",
       "      <td>-</td>\n",
       "      <td>-</td>\n",
       "    </tr>\n",
       "    <tr>\n",
       "      <td>E</td>\n",
       "      <td>-</td>\n",
       "      <td>0.062</td>\n",
       "      <td>-</td>\n",
       "      <td>-</td>\n",
       "      <td>-</td>\n",
       "      <td>-</td>\n",
       "      <td>-</td>\n",
       "    </tr>\n",
       "  </tbody>\n",
       "</table>\n",
       "</div>"
      ],
      "text/plain": [
       "            nunique                                          \n",
       "action_name     buy   comp   mark reward  share   view   vote\n",
       "target_cat                                                   \n",
       "0                 -      -      -  0.398      -      -      -\n",
       "1                 -      -      -  0.016      -      -      -\n",
       "5                 -      -  0.164      -  0.428  0.895  0.119\n",
       "6              0.44      -  0.047      -      -  0.755  0.026\n",
       "A                 -  0.043      -      -      -      -      -\n",
       "C                 -  0.021      -      -      -      -      -\n",
       "D                 -  0.032      -      -      -      -      -\n",
       "E                 -  0.062      -      -      -      -      -"
      ]
     },
     "execution_count": 24,
     "metadata": {},
     "output_type": "execute_result"
    }
   ],
   "source": [
    "print('第二类用户在初次使用第一周的行为比例：')\n",
    "print('--------------------------------')\n",
    "(df_act7_sub2.pivot_table(index='target_cat',columns='action_name',values='user_id'\\\n",
    ",aggfunc=['nunique'])/len(sub2_id)).round(3).fillna('-')"
   ]
  },
  {
   "cell_type": "code",
   "execution_count": 108,
   "metadata": {
    "hide_input": true,
    "id": "C5E6CE9F471E4A808318E6175E8266FD",
    "jupyter": {},
    "notebookId": "61790ad0768f3b001785f2e3",
    "scrolled": false,
    "slideshow": {
     "slide_type": "slide"
    },
    "tags": []
   },
   "outputs": [
    {
     "name": "stdout",
     "output_type": "stream",
     "text": [
      "行为流量总量分布\n",
      "----------------------------------------------\n"
     ]
    },
    {
     "data": {
      "text/html": [
       "<img src=\"https://cdn.kesci.com/upload/rt/C5E6CE9F471E4A808318E6175E8266FD/r1y7q19ver.png\">"
      ],
      "text/plain": [
       "<Figure size 1800x432 with 3 Axes>"
      ]
     },
     "metadata": {
      "needs_background": "light"
     },
     "output_type": "display_data"
    }
   ],
   "source": [
    "# 不同行为-对象组合的情况\n",
    "print('行为流量总量分布')\n",
    "print('----------------------------------------------')\n",
    "\n",
    "plt.figure(figsize=(25,6))\n",
    "plt.subplot(1, 3, 1)\n",
    "# (df.groupby('act_target')['user_id'].count()/df.groupby('act_target').date.nunique()).plot.bar(color='C3')\n",
    "df.groupby('act_target')['user_id'].count().plot.bar(color='C3')\n",
    "plt.title('总体PV')\n",
    "\n",
    "plt.subplot(1, 3, 2)\n",
    "# (df.groupby('act_target')['user_id'].nunique() / df.groupby('act_target').date.nunique()).plot.bar()\n",
    "df.groupby('act_target')['user_id'].nunique().plot.bar()\n",
    "plt.title('总体UV')\n",
    "\n",
    "plt.subplot(1, 3, 3)\n",
    "# (df.groupby('act_target')['target_id'].nunique()/df.groupby('act_target').date.nunique()).plot.bar(color='orange')\n",
    "df.groupby('act_target')['target_id'].nunique().plot.bar(color='orange')\n",
    "plt.title('总体内容对象数量')\n",
    "plt.show()"
   ]
  },
  {
   "cell_type": "markdown",
   "metadata": {
    "id": "925D4F78AD2848859A50A7B6E8B2D8BC",
    "jupyter": {},
    "mdEditEnable": false,
    "notebookId": "61790ad0768f3b001785f2e3",
    "scrolled": true,
    "slideshow": {
     "slide_type": "slide"
    },
    "tags": []
   },
   "source": [
    "结合上图中各类操作的总量与UV、对象数量水平来分析\n",
    "\n",
    "第一类用户使用首周的行为特点：\n",
    "* **reward过0类**内容对象的比例更高：0.394 vs 0.226\n",
    "* 针对大类5的内容对象，**share**和view的比例更高：share 0.408 vs 0.28, view 0.831 vs 0.748\n",
    "* **comp**行为对象为**A、D和E类**的比例轻微提高\n",
    "\n",
    "第二类用户使用首周的行为特点：\n",
    "* **reward过0类**内容对象的比例更高：0.398 vs 0.226\n",
    "* 针对大类5的内容对象，**share**和view的比例更高：share 0.428 vs 0.28, view 0.895 vs 0.748；另外**vote的比例提升更明显**，0.119 vs 0.055\n",
    "*** comp**行为对象为**A类**的比例轻微提高"
   ]
  },
  {
   "cell_type": "markdown",
   "metadata": {
    "id": "DF268F0706074156854A6BCD64D11BCA",
    "jupyter": {},
    "mdEditEnable": false,
    "notebookId": "61790ad0768f3b001785f2e3",
    "scrolled": false,
    "slideshow": {
     "slide_type": "slide"
    },
    "tags": []
   },
   "source": [
    "进一步尝试加入更多的行为统计指标：\n",
    "* nsuc_d 代表一次性用户的首日行为\n",
    "* suc为留存用户总体；sub1和sub2分别代表第一类和第二类用户\n",
    "* d为新增首日，w代表新增后首周内的行为\n",
    "* df_dayofperiod_ptp：用户的生命周期长度\n",
    "* dayofperiod_count：对应时间区间内的日均行为个数\n",
    "* act_target_nunique：行为与对象大类交叉类型的涉及数\n",
    "* action_name_nunique：行为类型的涉及数\n",
    "* target_cat_nunique：内容对象大类的涉及数\n",
    "* w_act_perc：首周内活跃天数的比例\n",
    "* act_perc：生命周期对应内总体的活跃天数比例\n",
    "* 行为类型 X 对象大类：每个行为类型在对应时间区间内的日均操作次数"
   ]
  },
  {
   "cell_type": "code",
   "execution_count": 38,
   "metadata": {
    "hide_input": true,
    "id": "EBCA7173DED34E2382DE5E2ACAA5DB24",
    "jupyter": {},
    "notebookId": "61790ad0768f3b001785f2e3",
    "scrolled": false,
    "slideshow": {
     "slide_type": "slide"
    },
    "tags": []
   },
   "outputs": [
    {
     "data": {
      "text/html": [
       "<div>\n",
       "<style scoped>\n",
       "    .dataframe tbody tr th:only-of-type {\n",
       "        vertical-align: middle;\n",
       "    }\n",
       "\n",
       "    .dataframe tbody tr th {\n",
       "        vertical-align: top;\n",
       "    }\n",
       "\n",
       "    .dataframe thead th {\n",
       "        text-align: right;\n",
       "    }\n",
       "</style>\n",
       "<table border=\"1\" class=\"dataframe\">\n",
       "  <thead>\n",
       "    <tr style=\"text-align: right;\">\n",
       "      <th></th>\n",
       "      <th>nsuc_d</th>\n",
       "      <th>suc_d</th>\n",
       "      <th>sub1_d</th>\n",
       "      <th>sub2_d</th>\n",
       "      <th>suc_w</th>\n",
       "      <th>sub1_w</th>\n",
       "      <th>sub2_w</th>\n",
       "      <th>max</th>\n",
       "    </tr>\n",
       "  </thead>\n",
       "  <tbody>\n",
       "    <tr>\n",
       "      <td>df_dayofperiod_ptp</td>\n",
       "      <td>0.000</td>\n",
       "      <td>39.829</td>\n",
       "      <td>15.944</td>\n",
       "      <td>117.128</td>\n",
       "      <td>39.829</td>\n",
       "      <td>15.944</td>\n",
       "      <td>117.128</td>\n",
       "      <td>117.128</td>\n",
       "    </tr>\n",
       "    <tr>\n",
       "      <td>dayofperiod_count</td>\n",
       "      <td>4.236</td>\n",
       "      <td>7.811</td>\n",
       "      <td>10.310</td>\n",
       "      <td>8.059</td>\n",
       "      <td>2.428</td>\n",
       "      <td>5.076</td>\n",
       "      <td>4.104</td>\n",
       "      <td>10.310</td>\n",
       "    </tr>\n",
       "    <tr>\n",
       "      <td>dayofperiod_nunique</td>\n",
       "      <td>1.000</td>\n",
       "      <td>1.000</td>\n",
       "      <td>1.000</td>\n",
       "      <td>1.000</td>\n",
       "      <td>2.388</td>\n",
       "      <td>4.521</td>\n",
       "      <td>3.527</td>\n",
       "      <td>4.521</td>\n",
       "    </tr>\n",
       "    <tr>\n",
       "      <td>act_target_nunique</td>\n",
       "      <td>1.974</td>\n",
       "      <td>2.421</td>\n",
       "      <td>2.676</td>\n",
       "      <td>2.568</td>\n",
       "      <td>2.853</td>\n",
       "      <td>3.479</td>\n",
       "      <td>3.446</td>\n",
       "      <td>3.479</td>\n",
       "    </tr>\n",
       "    <tr>\n",
       "      <td>view_5</td>\n",
       "      <td>1.263</td>\n",
       "      <td>3.163</td>\n",
       "      <td>4.592</td>\n",
       "      <td>4.138</td>\n",
       "      <td>1.087</td>\n",
       "      <td>2.706</td>\n",
       "      <td>2.333</td>\n",
       "      <td>4.592</td>\n",
       "    </tr>\n",
       "    <tr>\n",
       "      <td>action_name_nunique</td>\n",
       "      <td>1.712</td>\n",
       "      <td>1.958</td>\n",
       "      <td>2.141</td>\n",
       "      <td>2.023</td>\n",
       "      <td>2.253</td>\n",
       "      <td>2.690</td>\n",
       "      <td>2.667</td>\n",
       "      <td>2.690</td>\n",
       "    </tr>\n",
       "    <tr>\n",
       "      <td>target_cat_nunique</td>\n",
       "      <td>1.355</td>\n",
       "      <td>1.622</td>\n",
       "      <td>1.803</td>\n",
       "      <td>1.813</td>\n",
       "      <td>1.857</td>\n",
       "      <td>2.310</td>\n",
       "      <td>2.222</td>\n",
       "      <td>2.310</td>\n",
       "    </tr>\n",
       "    <tr>\n",
       "      <td>view_6</td>\n",
       "      <td>1.951</td>\n",
       "      <td>3.241</td>\n",
       "      <td>3.577</td>\n",
       "      <td>2.317</td>\n",
       "      <td>0.953</td>\n",
       "      <td>1.483</td>\n",
       "      <td>1.043</td>\n",
       "      <td>3.577</td>\n",
       "    </tr>\n",
       "    <tr>\n",
       "      <td>w_act_perc</td>\n",
       "      <td>NaN</td>\n",
       "      <td>NaN</td>\n",
       "      <td>NaN</td>\n",
       "      <td>NaN</td>\n",
       "      <td>0.341</td>\n",
       "      <td>0.646</td>\n",
       "      <td>0.504</td>\n",
       "      <td>0.646</td>\n",
       "    </tr>\n",
       "    <tr>\n",
       "      <td>act_perc</td>\n",
       "      <td>1.000</td>\n",
       "      <td>0.398</td>\n",
       "      <td>0.642</td>\n",
       "      <td>0.331</td>\n",
       "      <td>0.398</td>\n",
       "      <td>0.642</td>\n",
       "      <td>0.331</td>\n",
       "      <td>1.000</td>\n",
       "    </tr>\n",
       "    <tr>\n",
       "      <td>reward_0</td>\n",
       "      <td>0.121</td>\n",
       "      <td>0.226</td>\n",
       "      <td>0.338</td>\n",
       "      <td>0.410</td>\n",
       "      <td>0.098</td>\n",
       "      <td>0.298</td>\n",
       "      <td>0.258</td>\n",
       "      <td>0.410</td>\n",
       "    </tr>\n",
       "    <tr>\n",
       "      <td>buy_6</td>\n",
       "      <td>0.437</td>\n",
       "      <td>0.459</td>\n",
       "      <td>0.423</td>\n",
       "      <td>0.336</td>\n",
       "      <td>0.119</td>\n",
       "      <td>0.211</td>\n",
       "      <td>0.135</td>\n",
       "      <td>0.459</td>\n",
       "    </tr>\n",
       "    <tr>\n",
       "      <td>mark_5</td>\n",
       "      <td>0.042</td>\n",
       "      <td>0.142</td>\n",
       "      <td>0.563</td>\n",
       "      <td>0.160</td>\n",
       "      <td>0.035</td>\n",
       "      <td>0.135</td>\n",
       "      <td>0.072</td>\n",
       "      <td>0.563</td>\n",
       "    </tr>\n",
       "    <tr>\n",
       "      <td>share_5</td>\n",
       "      <td>0.148</td>\n",
       "      <td>0.282</td>\n",
       "      <td>0.380</td>\n",
       "      <td>0.368</td>\n",
       "      <td>0.069</td>\n",
       "      <td>0.115</td>\n",
       "      <td>0.135</td>\n",
       "      <td>0.380</td>\n",
       "    </tr>\n",
       "    <tr>\n",
       "      <td>reward_1</td>\n",
       "      <td>0.004</td>\n",
       "      <td>0.008</td>\n",
       "      <td>0.028</td>\n",
       "      <td>0.012</td>\n",
       "      <td>0.007</td>\n",
       "      <td>0.062</td>\n",
       "      <td>0.011</td>\n",
       "      <td>0.062</td>\n",
       "    </tr>\n",
       "    <tr>\n",
       "      <td>comp_A</td>\n",
       "      <td>0.010</td>\n",
       "      <td>0.020</td>\n",
       "      <td>0.099</td>\n",
       "      <td>0.061</td>\n",
       "      <td>0.004</td>\n",
       "      <td>0.016</td>\n",
       "      <td>0.016</td>\n",
       "      <td>0.099</td>\n",
       "    </tr>\n",
       "    <tr>\n",
       "      <td>comp_E</td>\n",
       "      <td>0.090</td>\n",
       "      <td>0.053</td>\n",
       "      <td>0.085</td>\n",
       "      <td>0.053</td>\n",
       "      <td>0.010</td>\n",
       "      <td>0.014</td>\n",
       "      <td>0.011</td>\n",
       "      <td>0.090</td>\n",
       "    </tr>\n",
       "    <tr>\n",
       "      <td>comp_D</td>\n",
       "      <td>0.080</td>\n",
       "      <td>0.045</td>\n",
       "      <td>0.085</td>\n",
       "      <td>0.031</td>\n",
       "      <td>0.007</td>\n",
       "      <td>0.012</td>\n",
       "      <td>0.005</td>\n",
       "      <td>0.085</td>\n",
       "    </tr>\n",
       "    <tr>\n",
       "      <td>vote_5</td>\n",
       "      <td>0.024</td>\n",
       "      <td>0.056</td>\n",
       "      <td>0.056</td>\n",
       "      <td>0.103</td>\n",
       "      <td>0.014</td>\n",
       "      <td>0.012</td>\n",
       "      <td>0.057</td>\n",
       "      <td>0.103</td>\n",
       "    </tr>\n",
       "    <tr>\n",
       "      <td>mark_6</td>\n",
       "      <td>0.033</td>\n",
       "      <td>0.082</td>\n",
       "      <td>0.070</td>\n",
       "      <td>0.037</td>\n",
       "      <td>0.019</td>\n",
       "      <td>0.010</td>\n",
       "      <td>0.014</td>\n",
       "      <td>0.082</td>\n",
       "    </tr>\n",
       "    <tr>\n",
       "      <td>comp_C</td>\n",
       "      <td>0.017</td>\n",
       "      <td>0.011</td>\n",
       "      <td>0.014</td>\n",
       "      <td>0.016</td>\n",
       "      <td>0.002</td>\n",
       "      <td>0.002</td>\n",
       "      <td>0.003</td>\n",
       "      <td>0.017</td>\n",
       "    </tr>\n",
       "    <tr>\n",
       "      <td>comp_B</td>\n",
       "      <td>0.000</td>\n",
       "      <td>0.001</td>\n",
       "      <td>0.000</td>\n",
       "      <td>0.000</td>\n",
       "      <td>0.000</td>\n",
       "      <td>0.000</td>\n",
       "      <td>0.000</td>\n",
       "      <td>0.001</td>\n",
       "    </tr>\n",
       "    <tr>\n",
       "      <td>vote_6</td>\n",
       "      <td>0.016</td>\n",
       "      <td>0.024</td>\n",
       "      <td>0.000</td>\n",
       "      <td>0.016</td>\n",
       "      <td>0.006</td>\n",
       "      <td>0.000</td>\n",
       "      <td>0.012</td>\n",
       "      <td>0.024</td>\n",
       "    </tr>\n",
       "  </tbody>\n",
       "</table>\n",
       "</div>"
      ],
      "text/plain": [
       "                     nsuc_d   suc_d  sub1_d   sub2_d   suc_w  sub1_w   sub2_w  \\\n",
       "df_dayofperiod_ptp    0.000  39.829  15.944  117.128  39.829  15.944  117.128   \n",
       "dayofperiod_count     4.236   7.811  10.310    8.059   2.428   5.076    4.104   \n",
       "dayofperiod_nunique   1.000   1.000   1.000    1.000   2.388   4.521    3.527   \n",
       "act_target_nunique    1.974   2.421   2.676    2.568   2.853   3.479    3.446   \n",
       "view_5                1.263   3.163   4.592    4.138   1.087   2.706    2.333   \n",
       "action_name_nunique   1.712   1.958   2.141    2.023   2.253   2.690    2.667   \n",
       "target_cat_nunique    1.355   1.622   1.803    1.813   1.857   2.310    2.222   \n",
       "view_6                1.951   3.241   3.577    2.317   0.953   1.483    1.043   \n",
       "w_act_perc              NaN     NaN     NaN      NaN   0.341   0.646    0.504   \n",
       "act_perc              1.000   0.398   0.642    0.331   0.398   0.642    0.331   \n",
       "reward_0              0.121   0.226   0.338    0.410   0.098   0.298    0.258   \n",
       "buy_6                 0.437   0.459   0.423    0.336   0.119   0.211    0.135   \n",
       "mark_5                0.042   0.142   0.563    0.160   0.035   0.135    0.072   \n",
       "share_5               0.148   0.282   0.380    0.368   0.069   0.115    0.135   \n",
       "reward_1              0.004   0.008   0.028    0.012   0.007   0.062    0.011   \n",
       "comp_A                0.010   0.020   0.099    0.061   0.004   0.016    0.016   \n",
       "comp_E                0.090   0.053   0.085    0.053   0.010   0.014    0.011   \n",
       "comp_D                0.080   0.045   0.085    0.031   0.007   0.012    0.005   \n",
       "vote_5                0.024   0.056   0.056    0.103   0.014   0.012    0.057   \n",
       "mark_6                0.033   0.082   0.070    0.037   0.019   0.010    0.014   \n",
       "comp_C                0.017   0.011   0.014    0.016   0.002   0.002    0.003   \n",
       "comp_B                0.000   0.001   0.000    0.000   0.000   0.000    0.000   \n",
       "vote_6                0.016   0.024   0.000    0.016   0.006   0.000    0.012   \n",
       "\n",
       "                         max  \n",
       "df_dayofperiod_ptp   117.128  \n",
       "dayofperiod_count     10.310  \n",
       "dayofperiod_nunique    4.521  \n",
       "act_target_nunique     3.479  \n",
       "view_5                 4.592  \n",
       "action_name_nunique    2.690  \n",
       "target_cat_nunique     2.310  \n",
       "view_6                 3.577  \n",
       "w_act_perc             0.646  \n",
       "act_perc               1.000  \n",
       "reward_0               0.410  \n",
       "buy_6                  0.459  \n",
       "mark_5                 0.563  \n",
       "share_5                0.380  \n",
       "reward_1               0.062  \n",
       "comp_A                 0.099  \n",
       "comp_E                 0.090  \n",
       "comp_D                 0.085  \n",
       "vote_5                 0.103  \n",
       "mark_6                 0.082  \n",
       "comp_C                 0.017  \n",
       "comp_B                 0.001  \n",
       "vote_6                 0.024  "
      ]
     },
     "execution_count": 38,
     "metadata": {},
     "output_type": "execute_result"
    }
   ],
   "source": [
    "ana_df = pd.concat([sum1_df,sum7_df],axis=1).sort_values(by='sub1_w',ascending=False).round(3)\n",
    "ana_df['max'] = ana_df.max(axis=1)\n",
    "ana_df"
   ]
  },
  {
   "cell_type": "markdown",
   "metadata": {
    "id": "7E2530C4074743799C57FF2D5B07D38F",
    "jupyter": {},
    "mdEditEnable": false,
    "notebookId": "61790ad0768f3b001785f2e3",
    "slideshow": {
     "slide_type": "slide"
    },
    "tags": []
   },
   "source": [
    "通过对比各行的数据，可以总结发现：\n",
    "\n",
    "* 从view第5和6类内容的比例来看，第一类用户在此行为上的活跃度非常高，第二类用户略低于第一类的水平，但都比留存用户总体明显更高。\n",
    "* 第一类用户首日有56.3%的人做了操作 mark第5类内容。\n",
    "* 第二类用户buy第6类内容的比例反而不高。\n",
    "* 两类用户对第5类用户的share比例差不多，均高于用户总体。\n",
    "* 第二类用户首日就有41%的人做了reward第0类内容的行为，首周内的水平与第一类用户接近。\n",
    "\n",
    "\n",
    "总体来看，两类核心用户的更多操作对象还是集中在第5类内容上，其次是第6类。"
   ]
  },
  {
   "cell_type": "markdown",
   "metadata": {
    "id": "5D2D9F8CA41044659905FF1CB74FF291",
    "jupyter": {},
    "mdEditEnable": false,
    "notebookId": "61790ad0768f3b001785f2e3",
    "slideshow": {
     "slide_type": "slide"
    },
    "tags": []
   },
   "source": [
    "### 相关性分析\n",
    "进一步，计算相关系数，看看哪个行为指标与总体生命周期的关系更大"
   ]
  },
  {
   "cell_type": "code",
   "execution_count": 106,
   "metadata": {
    "hide_input": true,
    "id": "EEBACFB73E864F8A9A2097FDD27ADF70",
    "jupyter": {},
    "notebookId": "61790ad0768f3b001785f2e3",
    "scrolled": false,
    "slideshow": {
     "slide_type": "slide"
    },
    "tags": []
   },
   "outputs": [
    {
     "name": "stdout",
     "output_type": "stream",
     "text": [
      "首周活跃指标：与总体生命周期(df_dayofperiod_ptp)的各指标相关系数：按第二类用户列排序\n",
      "------------------------------------------------------------------\n"
     ]
    },
    {
     "data": {
      "text/html": [
       "<img src=\"https://cdn.kesci.com/upload/rt/EEBACFB73E864F8A9A2097FDD27ADF70/r1y6g1lksj.png\">"
      ],
      "text/plain": [
       "<Figure size 720x432 with 1 Axes>"
      ]
     },
     "metadata": {
      "needs_background": "light"
     },
     "output_type": "display_data"
    }
   ],
   "source": [
    "cor7_suc = agg_act7_suc.corr().df_dayofperiod_ptp\n",
    "cor7_sub1 = agg_act7_sub1.corr().df_dayofperiod_ptp\n",
    "cor7_sub2 = agg_act7_sub2.corr().df_dayofperiod_ptp\n",
    "cor7_df = pd.concat([cor7_suc,cor7_sub1,cor7_sub2],axis=1)\n",
    "cor7_df.columns = ['suc_w','sub1_w','sub2_w']\n",
    "plt_df = cor7_df.sort_values(by='sub2_w',ascending=False).round(3)[2:]\n",
    "\n",
    "print('首周活跃指标：与总体生命周期(df_dayofperiod_ptp)的各指标相关系数：按第二类用户列排序')\n",
    "print('------------------------------------------------------------------')\n",
    "fig,ax = plt.subplots()\n",
    "plt.rcParams[\"figure.figsize\"] = (10,6)\n",
    "ax.plot(plt_df)\n",
    "ax.set_xticklabels(plt_df.index.to_list(),rotation=90)\n",
    "plt.axhline(y=0,ls='--',color='C3')\n",
    "plt.legend(['留存用户','第一类','第二类'])\n",
    "plt.show()"
   ]
  },
  {
   "cell_type": "code",
   "execution_count": 107,
   "metadata": {
    "hide_input": true,
    "id": "73753DBB62794FBFA4C30B89EDA11C3F",
    "jupyter": {},
    "notebookId": "61790ad0768f3b001785f2e3",
    "scrolled": false,
    "slideshow": {
     "slide_type": "slide"
    },
    "tags": []
   },
   "outputs": [
    {
     "name": "stdout",
     "output_type": "stream",
     "text": [
      "首日活跃指标：与总体生命周期(df_dayofperiod_ptp)的各指标相关系数：按第二类用户列排序\n",
      "------------------------------------------------------------------\n"
     ]
    },
    {
     "data": {
      "text/html": [
       "<img src=\"https://cdn.kesci.com/upload/rt/73753DBB62794FBFA4C30B89EDA11C3F/r1y6ge9v2u.png\">"
      ],
      "text/plain": [
       "<Figure size 720x432 with 1 Axes>"
      ]
     },
     "metadata": {
      "needs_background": "light"
     },
     "output_type": "display_data"
    }
   ],
   "source": [
    "# cor1_nsuc = agg_act1_nsuc.corr().df_dayofperiod_ptp\n",
    "cor1_suc = agg_act1_suc.corr().df_dayofperiod_ptp\n",
    "cor1_sub1 = agg_act1_sub1.corr().df_dayofperiod_ptp\n",
    "cor1_sub2 = agg_act1_sub2.corr().df_dayofperiod_ptp\n",
    "cor1_df = pd.concat([cor1_suc,cor1_sub1,cor1_sub2],axis=1)\n",
    "cor1_df.columns = ['suc_d','sub1_d','sub2_d']\n",
    "plt_df = cor1_df.sort_values(by='sub2_d',ascending=False).round(3)[2:]\n",
    "\n",
    "print('首日活跃指标：与总体生命周期(df_dayofperiod_ptp)的各指标相关系数：按第二类用户列排序')\n",
    "print('------------------------------------------------------------------')\n",
    "fig,ax = plt.subplots()\n",
    "plt.rcParams[\"figure.figsize\"] = (10,6)\n",
    "ax.plot(plt_df)\n",
    "ax.set_xticklabels(plt_df.index.to_list(),rotation=90)\n",
    "plt.axhline(y=0,ls='--',color='C3')\n",
    "plt.legend(['留存用户','第一类','第二类'])\n",
    "plt.show()"
   ]
  },
  {
   "cell_type": "markdown",
   "metadata": {
    "id": "75A8698A618540F7BBBE2544238DA7D2",
    "jupyter": {},
    "mdEditEnable": false,
    "notebookId": "61790ad0768f3b001785f2e3",
    "scrolled": false,
    "slideshow": {
     "slide_type": "slide"
    },
    "tags": []
   },
   "source": [
    "可以猜测：\n",
    "* **mark在6类 和 vote在5类** 上的动作可能意味着用户短期内会频繁的登录社区，与第一类用户的生命周期高度相关\n",
    "* **reward在0类 和 comp在C类**上的行为会有助于用户的更长期存在，是与第二类用户生命周期长度最为正相关的行为指标\n"
   ]
  },
  {
   "cell_type": "markdown",
   "metadata": {
    "hide_input": false,
    "id": "C6F3ACBC7D69400A84543D7629CDCCB9",
    "jupyter": {},
    "mdEditEnable": false,
    "notebookId": "61790ad0768f3b001785f2e3",
    "scrolled": false,
    "slideshow": {
     "slide_type": "slide"
    },
    "tags": []
   },
   "source": [
    "## 总结与建议"
   ]
  },
  {
   "cell_type": "markdown",
   "metadata": {
    "id": "95BD4F732FBB42C7A3F09DA8A808AFE7",
    "jupyter": {},
    "mdEditEnable": false,
    "notebookId": "61790ad0768f3b001785f2e3",
    "scrolled": true,
    "slideshow": {
     "slide_type": "slide"
    },
    "tags": []
   },
   "source": [
    "- 体验的模块越多，用户越会短期活跃甚至是长期存留：可以建立初期登录时有趣的新手任务或积分体系，促使用户在接触社区的一开始可以更多地了解社区"
   ]
  },
  {
   "cell_type": "markdown",
   "metadata": {
    "id": "71527023178346C8A7F080A1D97E635F",
    "jupyter": {},
    "mdEditEnable": false,
    "notebookId": "61790ad0768f3b001785f2e3",
    "scrolled": false,
    "slideshow": {
     "slide_type": "slide"
    },
    "tags": []
   },
   "source": [
    "- **第5类内容对象**的角色更像是社区的“流量担当”，数量众多，且对其的vote行为与活跃和留存正相关：同样可以考虑与积分体系挂钩，同时尝试推出激励用户点赞的活动，让用户也可以享受到点赞给自己带来的好处"
   ]
  },
  {
   "cell_type": "markdown",
   "metadata": {
    "id": "6E556DE64D5B4217811223B35B348ACA",
    "jupyter": {},
    "mdEditEnable": false,
    "notebookId": "61790ad0768f3b001785f2e3",
    "scrolled": false,
    "slideshow": {
     "slide_type": "slide"
    },
    "tags": []
   },
   "source": [
    "- **第6类内容对象**更有些“骨干力量”的架势，数量不多但是由它带来的UV却是最多的：可见保证第6类内容的质量是重中之重"
   ]
  },
  {
   "cell_type": "markdown",
   "metadata": {
    "id": "FC5E65EE0E0A454B86C81EF3949E5866",
    "jupyter": {},
    "mdEditEnable": false,
    "notebookId": "61790ad0768f3b001785f2e3",
    "scrolled": false,
    "slideshow": {
     "slide_type": "slide"
    },
    "tags": []
   },
   "source": [
    "- 基于对第二类用户的分析结果，对于初期有**对0类内容reward**或者**对C类对象comp**行为的用户，可以重点关注：可以尝试对他们做更多地用户研究，多倾听他们的需求和反馈，对于改进社区体验大有帮助"
   ]
  },
  {
   "cell_type": "markdown",
   "metadata": {
    "hide_input": false,
    "id": "07169CB0AC4647B694AF5A8BFD53C03E",
    "jupyter": {},
    "mdEditEnable": false,
    "notebookId": "61790ad0768f3b001785f2e3",
    "scrolled": true,
    "slideshow": {
     "slide_type": "slide"
    },
    "tags": []
   },
   "source": [
    "- 数据收集时，尝试加入能够判断用户动机的信息：对于更有效的用户分层会非常有用"
   ]
  },
  {
   "cell_type": "markdown",
   "metadata": {
    "id": "232015A5A6FE4A39A1B63BA2CE8794C8",
    "jupyter": {},
    "mdEditEnable": false,
    "notebookId": "61790ad0768f3b001785f2e3",
    "scrolled": false,
    "slideshow": {
     "slide_type": "slide"
    },
    "tags": []
   },
   "source": [
    "## 更多思考"
   ]
  },
  {
   "cell_type": "markdown",
   "metadata": {
    "id": "D2D631A940604DA986080F55E687D441",
    "jupyter": {},
    "mdEditEnable": false,
    "notebookId": "61790ad0768f3b001785f2e3",
    "scrolled": false,
    "slideshow": {
     "slide_type": "slide"
    },
    "tags": []
   },
   "source": [
    "- 知识内容类的社区用户，易存类“排他性”的心理，即出于“自己想会但是怕别人也会”的心理，可能不会产生很多的分享动作。\n",
    "   但是会有一类用户，出于塑造“个人品牌”的动机，会乐于创作，也会乐于将自己的成果对外分享。\n",
    "   类似于知乎的大V创作者，可以为社区形成优秀的内容，同时也能够高效地吸引更多用户加入。"
   ]
  },
  {
   "cell_type": "markdown",
   "metadata": {
    "id": "2985B7F199C447658982E68F23BA708A",
    "jupyter": {},
    "mdEditEnable": false,
    "notebookId": "61790ad0768f3b001785f2e3",
    "scrolled": false,
    "slideshow": {
     "slide_type": "slide"
    },
    "tags": []
   },
   "source": [
    "- 学习型的知识社区可能还存在的一个先天的劣势，就是主营服务内容是“反人性”的。\n",
    "   学习-成长-进步，这类的活动本身就需要个人坚强的品质来支撑和维持。\n",
    "\t 因此，社区的使用体验上，如果可以加入更多的趣味性，可能会对用户长期留存有益。"
   ]
  },
  {
   "cell_type": "markdown",
   "metadata": {
    "id": "A757D18F702642108868966A3C714A6E",
    "jupyter": {},
    "mdEditEnable": false,
    "notebookId": "61790ad0768f3b001785f2e3",
    "scrolled": false,
    "slideshow": {
     "slide_type": "slide"
    },
    "tags": []
   },
   "source": [
    "- 有一个具体的指标也很值得产品或UX部门进行分析，就是一天或一次会话内登录同一页面的次数。\n",
    "   这一点思考缘于个人体验：使用某一个网站的时候，因为很难找到想找的内容，只能从我收藏的入口不停地进去寻找。\n",
    "\t 这一指标过高可能揭示了网站设计上层级或逻辑的问题。"
   ]
  },
  {
   "cell_type": "markdown",
   "metadata": {
    "id": "AB7F5461DC354302A192412EF4CE90AA",
    "jupyter": {},
    "mdEditEnable": false,
    "notebookId": "61790ad0768f3b001785f2e3",
    "scrolled": false,
    "slideshow": {
     "slide_type": "slide"
    },
    "tags": []
   },
   "source": [
    "---"
   ]
  }
 ],
 "metadata": {
  "kernelspec": {
   "display_name": "Python 3",
   "language": "python",
   "name": "python3"
  },
  "language_info": {
   "codemirror_mode": {
    "name": "ipython",
    "version": 3
   },
   "file_extension": ".py",
   "mimetype": "text/x-python",
   "name": "python",
   "nbconvert_exporter": "python",
   "pygments_lexer": "ipython3",
   "version": "3.8.3"
  }
 },
 "nbformat": 4,
 "nbformat_minor": 1
}
